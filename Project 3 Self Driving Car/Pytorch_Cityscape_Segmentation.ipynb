{
  "nbformat": 4,
  "nbformat_minor": 0,
  "metadata": {
    "colab": {
      "provenance": [],
      "collapsed_sections": [
        "0Rm9c-Jiv1oP",
        "hueL32YCxL0m",
        "33iL-sBdzG8U",
        "sUlQLjLoe4xD",
        "d0PIt5hmeT2F",
        "Kj4RQu85f84P",
        "imA2FNtV0Bmc",
        "lQV5E5XlgFco",
        "mU1h3G2Yz6xD",
        "6s4kTg_j3xH-",
        "zSeURlAfIlD1",
        "_yhT_X4VIoaO",
        "TqeNMK7AIspl",
        "mdUn2C6GJNP7"
      ],
      "gpuType": "T4"
    },
    "kernelspec": {
      "name": "python3",
      "display_name": "Python 3"
    },
    "language_info": {
      "name": "python"
    },
    "accelerator": "GPU"
  },
  "cells": [
    {
      "cell_type": "markdown",
      "source": [
        "# Pytorch Cityscape Segmentation"
      ],
      "metadata": {
        "id": "vh8gBM41vyC0"
      }
    },
    {
      "cell_type": "markdown",
      "source": [
        "## Setup Paths and Configs"
      ],
      "metadata": {
        "id": "0Rm9c-Jiv1oP"
      }
    },
    {
      "cell_type": "code",
      "source": [
        "from google.colab import drive\n",
        "import os\n",
        "\n",
        "drive.mount('/content/drive')"
      ],
      "metadata": {
        "colab": {
          "base_uri": "https://localhost:8080/"
        },
        "id": "OkoShbtVS9xT",
        "outputId": "938168bd-219a-45cd-c8bc-e8469a223b40"
      },
      "execution_count": null,
      "outputs": [
        {
          "output_type": "stream",
          "name": "stdout",
          "text": [
            "Mounted at /content/drive\n"
          ]
        }
      ]
    },
    {
      "cell_type": "code",
      "source": [
        "%cd '/content/drive/MyDrive/Pytorch Cityscape Image Segmentation'"
      ],
      "metadata": {
        "colab": {
          "base_uri": "https://localhost:8080/"
        },
        "id": "Lds9cu-yTZDg",
        "outputId": "c7501456-95b1-4cba-c97a-229536f0d441"
      },
      "execution_count": null,
      "outputs": [
        {
          "output_type": "stream",
          "name": "stdout",
          "text": [
            "/content/drive/MyDrive/Pytorch Cityscape Image Segmentation\n"
          ]
        }
      ]
    },
    {
      "cell_type": "code",
      "source": [
        "PROJECT_DIR = '/content/drive/MyDrive/Pytorch Cityscape Image Segmentation'\n",
        "\n",
        "TRAIN_IMG_DIR = os.path.join(PROJECT_DIR, 'Dataset/images_prepped_train')\n",
        "TRAIN_MASK_DIR = os.path.join(PROJECT_DIR, 'Dataset/annotations_prepped_train')\n",
        "TEST_IMG_DIR = os.path.join(PROJECT_DIR, 'Dataset/images_prepped_test')\n",
        "TEST_MASK_DIR = os.path.join(PROJECT_DIR, 'Dataset/annotations_prepped_test')"
      ],
      "metadata": {
        "id": "EQgsmsmaTcdh"
      },
      "execution_count": null,
      "outputs": []
    },
    {
      "cell_type": "code",
      "execution_count": null,
      "metadata": {
        "id": "5ENNd6ZdvYVU"
      },
      "outputs": [],
      "source": [
        "import torch\n",
        "\n",
        "LEARNING_RATE = 1e-4\n",
        "DEVICE = \"cuda\" if torch.cuda.is_available() else \"cpu\"\n",
        "BATCH_SIZE = 16\n",
        "NUM_EPOCHS = 100\n",
        "NUM_WORKERS = 2\n",
        "IMAGE_HEIGHT = 256\n",
        "IMAGE_WIDTH = 256\n",
        "NUM_CLASSES = 12"
      ]
    },
    {
      "cell_type": "markdown",
      "source": [
        "## Data Preparation"
      ],
      "metadata": {
        "id": "hueL32YCxL0m"
      }
    },
    {
      "cell_type": "markdown",
      "source": [
        "### Dataset"
      ],
      "metadata": {
        "id": "33iL-sBdzG8U"
      }
    },
    {
      "cell_type": "code",
      "source": [
        "from PIL import Image\n",
        "import matplotlib.pyplot as plt\n",
        "from torch.utils.data import Dataset, DataLoader\n",
        "import numpy as np"
      ],
      "metadata": {
        "id": "dc86RjeUxOcB"
      },
      "execution_count": null,
      "outputs": []
    },
    {
      "cell_type": "code",
      "source": [
        "class CityScapeDataset(Dataset):\n",
        "    def __init__(self, image_dir, mask_dir, transform=None):\n",
        "        self.image_dir = image_dir\n",
        "        self.mask_dir = mask_dir\n",
        "        self.transform = transform\n",
        "        self.images = os.listdir(image_dir)\n",
        "\n",
        "    def __len__(self):\n",
        "        return len(self.images)\n",
        "\n",
        "    def __getitem__(self, index):\n",
        "        img_path = os.path.join(self.image_dir, self.images[index])\n",
        "        mask_path = os.path.join(self.mask_dir, self.images[index])\n",
        "        image = np.array(Image.open(img_path).convert(\"RGB\"))\n",
        "        mask = np.array(Image.open(mask_path).convert(\"L\"), dtype=np.float32)\n",
        "\n",
        "        if self.transform is not None:\n",
        "            augmentations = self.transform(image=image, mask=mask)\n",
        "            image = augmentations[\"image\"]\n",
        "            mask = augmentations[\"mask\"]\n",
        "\n",
        "        return image, mask"
      ],
      "metadata": {
        "id": "FRhXvZ6vbfhR"
      },
      "execution_count": null,
      "outputs": []
    },
    {
      "cell_type": "markdown",
      "source": [
        "### Transforms"
      ],
      "metadata": {
        "id": "sUlQLjLoe4xD"
      }
    },
    {
      "cell_type": "code",
      "source": [
        "import albumentations as A\n",
        "from albumentations.pytorch import ToTensorV2"
      ],
      "metadata": {
        "id": "pWK0iJdrfELO"
      },
      "execution_count": null,
      "outputs": []
    },
    {
      "cell_type": "code",
      "source": [
        "transforms = A.Compose([\n",
        "    A.Resize(IMAGE_HEIGHT, IMAGE_WIDTH),\n",
        "    A.Normalize(),\n",
        "    ToTensorV2()\n",
        "])"
      ],
      "metadata": {
        "id": "HrvjhGxce64T"
      },
      "execution_count": null,
      "outputs": []
    },
    {
      "cell_type": "markdown",
      "source": [
        "### DataLoader"
      ],
      "metadata": {
        "id": "d0PIt5hmeT2F"
      }
    },
    {
      "cell_type": "code",
      "source": [
        "train_ds = CityScapeDataset(\n",
        "    image_dir=TRAIN_IMG_DIR,\n",
        "    mask_dir=TRAIN_MASK_DIR,\n",
        "    transform=transforms,\n",
        ")\n",
        "\n",
        "train_loader = DataLoader(\n",
        "    train_ds,\n",
        "    batch_size=BATCH_SIZE,\n",
        "    num_workers=NUM_WORKERS,\n",
        "    shuffle=True,\n",
        ")\n",
        "\n",
        "val_ds = CityScapeDataset(\n",
        "    image_dir=TEST_IMG_DIR,\n",
        "    mask_dir=TEST_MASK_DIR,\n",
        "    transform=transforms,\n",
        ")\n",
        "\n",
        "val_loader = DataLoader(\n",
        "    val_ds,\n",
        "    batch_size=BATCH_SIZE,\n",
        "    num_workers=NUM_WORKERS,\n",
        "    shuffle=False,\n",
        ")"
      ],
      "metadata": {
        "id": "v3U66e78eM6V"
      },
      "execution_count": null,
      "outputs": []
    },
    {
      "cell_type": "markdown",
      "source": [
        "## Build Model Architecture"
      ],
      "metadata": {
        "id": "Kj4RQu85f84P"
      }
    },
    {
      "cell_type": "code",
      "source": [
        "import torch.nn as nn\n",
        "import torchvision.transforms.functional as TF"
      ],
      "metadata": {
        "id": "uJlgMdWo0HWH"
      },
      "execution_count": null,
      "outputs": []
    },
    {
      "cell_type": "markdown",
      "source": [
        "### Double-Conv"
      ],
      "metadata": {
        "id": "imA2FNtV0Bmc"
      }
    },
    {
      "cell_type": "code",
      "source": [
        "class DoubleConv(nn.Module):\n",
        "    def __init__(self, in_channels, out_channels):\n",
        "        super(DoubleConv, self).__init__()\n",
        "        self.conv = nn.Sequential(\n",
        "            nn.Conv2d(in_channels, out_channels, 3, 1, 1, bias=False),\n",
        "            nn.BatchNorm2d(out_channels),\n",
        "            nn.ReLU(inplace=True),\n",
        "            nn.Conv2d(out_channels, out_channels, 3, 1, 1, bias=False),\n",
        "            nn.BatchNorm2d(out_channels),\n",
        "            nn.ReLU(inplace=True),\n",
        "        )\n",
        "\n",
        "    def forward(self, x):\n",
        "        return self.conv(x)"
      ],
      "metadata": {
        "id": "3vH81W3W0DnU"
      },
      "execution_count": null,
      "outputs": []
    },
    {
      "cell_type": "markdown",
      "source": [
        "### U-NET"
      ],
      "metadata": {
        "id": "lQV5E5XlgFco"
      }
    },
    {
      "cell_type": "code",
      "source": [
        "class UNET(nn.Module):\n",
        "    def __init__(\n",
        "            self, in_channels, out_channels, features=[64, 128, 256, 512],\n",
        "    ):\n",
        "        super(UNET, self).__init__()\n",
        "        self.ups = nn.ModuleList()\n",
        "        self.downs = nn.ModuleList()\n",
        "        self.pool = nn.MaxPool2d(kernel_size=2, stride=2)\n",
        "\n",
        "        # Down part of UNET\n",
        "        for feature in features:\n",
        "            self.downs.append(DoubleConv(in_channels, feature))\n",
        "            in_channels = feature\n",
        "\n",
        "        # Up part of UNET\n",
        "        for feature in reversed(features):\n",
        "            self.ups.append(\n",
        "                nn.ConvTranspose2d(\n",
        "                    feature*2, feature, kernel_size=2, stride=2,\n",
        "                )\n",
        "            )\n",
        "            self.ups.append(DoubleConv(feature*2, feature))\n",
        "\n",
        "        self.bottleneck = DoubleConv(features[-1], features[-1]*2)\n",
        "        self.final_conv = nn.Conv2d(features[0], out_channels, kernel_size=1)\n",
        "\n",
        "    def forward(self, x):\n",
        "        skip_connections = []\n",
        "\n",
        "        for down in self.downs:\n",
        "            x = down(x)\n",
        "            skip_connections.append(x)\n",
        "            x = self.pool(x)\n",
        "\n",
        "        x = self.bottleneck(x)\n",
        "        skip_connections = skip_connections[::-1]\n",
        "\n",
        "        for idx in range(0, len(self.ups), 2):\n",
        "            x = self.ups[idx](x)\n",
        "            skip_connection = skip_connections[idx//2]\n",
        "\n",
        "            if x.shape != skip_connection.shape:\n",
        "                x = TF.resize(x, size=skip_connection.shape[2:])\n",
        "\n",
        "            concat_skip = torch.cat((skip_connection, x), dim=1)\n",
        "            x = self.ups[idx+1](concat_skip)\n",
        "\n",
        "        return self.final_conv(x)"
      ],
      "metadata": {
        "id": "54Jwl00UgB1-"
      },
      "execution_count": null,
      "outputs": []
    },
    {
      "cell_type": "code",
      "source": [
        "input = torch.randn((1, 3, IMAGE_HEIGHT, IMAGE_WIDTH)) # BCHW\n",
        "model = UNET(in_channels=3, out_channels=NUM_CLASSES)\n",
        "output = model(input)\n",
        "print(input.shape)\n",
        "print(output.shape)"
      ],
      "metadata": {
        "colab": {
          "base_uri": "https://localhost:8080/"
        },
        "id": "yv9PP7NxgOdV",
        "outputId": "96f8e530-f6fc-4393-c139-b546921e2205"
      },
      "execution_count": null,
      "outputs": [
        {
          "output_type": "stream",
          "name": "stdout",
          "text": [
            "torch.Size([1, 3, 256, 256])\n",
            "torch.Size([1, 12, 256, 256])\n"
          ]
        }
      ]
    },
    {
      "cell_type": "markdown",
      "source": [
        "### FCN8s"
      ],
      "metadata": {
        "id": "mU1h3G2Yz6xD"
      }
    },
    {
      "cell_type": "code",
      "source": [
        "class FCN8s(nn.Module):\n",
        "  def __init__(self, in_channels, out_channels, features= [64, 128, 256, 512, 1024]):\n",
        "    super().__init__()\n",
        "    self.layers = nn.ModuleList()\n",
        "    self.pool = nn.MaxPool2d(2, 2)\n",
        "\n",
        "    for feature in features:\n",
        "      self.layers.append(DoubleConv(in_channels, feature))\n",
        "      in_channels = feature\n",
        "\n",
        "    self.ups1 = nn.ConvTranspose2d(features[-1], features[-2], kernel_size=2, stride=2)\n",
        "    self.ups2 = nn.ConvTranspose2d(features[-1], features[-3], kernel_size=2, stride=2)\n",
        "\n",
        "    self.predictions = nn.ConvTranspose2d(features[-2], out_channels, kernel_size=8, stride=8)\n",
        "\n",
        "  def forward(self, x):\n",
        "    skip_connections=[]\n",
        "\n",
        "    for idx,layer in enumerate(self.layers):\n",
        "      x = layer(x)\n",
        "      x = self.pool(x)\n",
        "      if idx in [2,3]:\n",
        "        skip_connections.append(x)\n",
        "\n",
        "\n",
        "    ups1 = self.ups1(x)\n",
        "    concat1 = torch.concat([ups1, skip_connections[-1]], dim=1)\n",
        "\n",
        "    ups2 = self.ups2(concat1)\n",
        "    concat2 = torch.concat([ups2, skip_connections[-2]], dim=1)\n",
        "\n",
        "    return self.predictions(concat2)"
      ],
      "metadata": {
        "id": "HNd7d6gP0XYp"
      },
      "execution_count": null,
      "outputs": []
    },
    {
      "cell_type": "markdown",
      "source": [
        "## Training Model"
      ],
      "metadata": {
        "id": "6s4kTg_j3xH-"
      }
    },
    {
      "cell_type": "code",
      "source": [
        "!pip install torchmetrics"
      ],
      "metadata": {
        "colab": {
          "base_uri": "https://localhost:8080/"
        },
        "id": "LdznsdbF99Ep",
        "outputId": "536089e7-3678-41b8-ebb8-aee3fd74dfa2"
      },
      "execution_count": null,
      "outputs": [
        {
          "output_type": "stream",
          "name": "stdout",
          "text": [
            "Collecting torchmetrics\n",
            "  Downloading torchmetrics-1.0.0-py3-none-any.whl (728 kB)\n",
            "\u001b[?25l     \u001b[90m━━━━━━━━━━━━━━━━━━━━━━━━━━━━━━━━━━━━━━━━\u001b[0m \u001b[32m0.0/728.8 kB\u001b[0m \u001b[31m?\u001b[0m eta \u001b[36m-:--:--\u001b[0m\r\u001b[2K     \u001b[90m━━━━━━━━━━━━━━━━━━━━━━━━━━━━━━━━━━━━━━\u001b[0m \u001b[32m728.8/728.8 kB\u001b[0m \u001b[31m29.0 MB/s\u001b[0m eta \u001b[36m0:00:00\u001b[0m\n",
            "\u001b[?25hRequirement already satisfied: numpy>1.20.0 in /usr/local/lib/python3.10/dist-packages (from torchmetrics) (1.22.4)\n",
            "Requirement already satisfied: torch>=1.8.1 in /usr/local/lib/python3.10/dist-packages (from torchmetrics) (2.0.1+cu118)\n",
            "Requirement already satisfied: packaging in /usr/local/lib/python3.10/dist-packages (from torchmetrics) (23.1)\n",
            "Collecting lightning-utilities>=0.7.0 (from torchmetrics)\n",
            "  Downloading lightning_utilities-0.9.0-py3-none-any.whl (23 kB)\n",
            "Requirement already satisfied: typing-extensions in /usr/local/lib/python3.10/dist-packages (from lightning-utilities>=0.7.0->torchmetrics) (4.6.3)\n",
            "Requirement already satisfied: filelock in /usr/local/lib/python3.10/dist-packages (from torch>=1.8.1->torchmetrics) (3.12.2)\n",
            "Requirement already satisfied: sympy in /usr/local/lib/python3.10/dist-packages (from torch>=1.8.1->torchmetrics) (1.11.1)\n",
            "Requirement already satisfied: networkx in /usr/local/lib/python3.10/dist-packages (from torch>=1.8.1->torchmetrics) (3.1)\n",
            "Requirement already satisfied: jinja2 in /usr/local/lib/python3.10/dist-packages (from torch>=1.8.1->torchmetrics) (3.1.2)\n",
            "Requirement already satisfied: triton==2.0.0 in /usr/local/lib/python3.10/dist-packages (from torch>=1.8.1->torchmetrics) (2.0.0)\n",
            "Requirement already satisfied: cmake in /usr/local/lib/python3.10/dist-packages (from triton==2.0.0->torch>=1.8.1->torchmetrics) (3.25.2)\n",
            "Requirement already satisfied: lit in /usr/local/lib/python3.10/dist-packages (from triton==2.0.0->torch>=1.8.1->torchmetrics) (16.0.6)\n",
            "Requirement already satisfied: MarkupSafe>=2.0 in /usr/local/lib/python3.10/dist-packages (from jinja2->torch>=1.8.1->torchmetrics) (2.1.3)\n",
            "Requirement already satisfied: mpmath>=0.19 in /usr/local/lib/python3.10/dist-packages (from sympy->torch>=1.8.1->torchmetrics) (1.3.0)\n",
            "Installing collected packages: lightning-utilities, torchmetrics\n",
            "Successfully installed lightning-utilities-0.9.0 torchmetrics-1.0.0\n"
          ]
        }
      ]
    },
    {
      "cell_type": "code",
      "source": [
        "from tqdm import tqdm\n",
        "from torchmetrics import JaccardIndex\n",
        "from torchmetrics.classification import Dice"
      ],
      "metadata": {
        "id": "K5ptyz8D6R_q"
      },
      "execution_count": null,
      "outputs": []
    },
    {
      "cell_type": "markdown",
      "source": [
        "### Configure Hyperparams"
      ],
      "metadata": {
        "id": "zSeURlAfIlD1"
      }
    },
    {
      "cell_type": "code",
      "source": [
        "model = FCN8s(in_channels=3, out_channels=NUM_CLASSES).to(DEVICE)\n",
        "criterion = nn.CrossEntropyLoss()\n",
        "optimizer = torch.optim.Adam(model.parameters(), lr = LEARNING_RATE)\n",
        "scaler = torch.cuda.amp.GradScaler()\n",
        "\n",
        "IOU = JaccardIndex(task=\"multiclass\", num_classes=NUM_CLASSES).to(DEVICE)\n",
        "DICE = Dice(average='micro').to(DEVICE)"
      ],
      "metadata": {
        "id": "HOYOHaBd3zb9"
      },
      "execution_count": null,
      "outputs": []
    },
    {
      "cell_type": "markdown",
      "source": [
        "### Code Train and Evaluation Engine"
      ],
      "metadata": {
        "id": "_yhT_X4VIoaO"
      }
    },
    {
      "cell_type": "code",
      "source": [
        "def train_one_epoch(model, train_loader, criterion, optimizer, scaler, device):\n",
        "  model.train()\n",
        "  total_loss = 0\n",
        "  print('____Training_____')\n",
        "  loop = tqdm(train_loader)\n",
        "  for data in loop:\n",
        "    images, labels = data[0].to(device), data[1].to(device, dtype=torch.int64)\n",
        "    with torch.cuda.amp.autocast():\n",
        "      preds = model(images)\n",
        "      loss = criterion(preds, labels)\n",
        "\n",
        "    optimizer.zero_grad()\n",
        "    scaler.scale(loss).backward()\n",
        "    scaler.step(optimizer)\n",
        "    scaler.update()\n",
        "    total_loss += loss.item()\n",
        "    loop.set_postfix(loss=loss.item())\n",
        "\n",
        "  return total_loss / len(train_loader)\n",
        "\n",
        "def evaluate(model, val_loader, criterion, device):\n",
        "  model.eval()\n",
        "  total_loss = 0\n",
        "  total_iou = 0\n",
        "  total_dice = 0\n",
        "  print('____Evaluating_____')\n",
        "  loop = tqdm(val_loader)\n",
        "  for data in loop:\n",
        "    images, labels = data[0].to(device), data[1].to(device, dtype=torch.int64)\n",
        "    with torch.no_grad():\n",
        "      preds = model(images)\n",
        "      loss = criterion(preds, labels)\n",
        "      iou_score = IOU(preds, labels)\n",
        "      dice_score = DICE(preds, labels)\n",
        "\n",
        "    total_loss += loss.item()\n",
        "    total_iou += iou_score.item()\n",
        "    total_dice += dice_score.item()\n",
        "    loop.set_postfix(loss=loss.item())\n",
        "\n",
        "  return (total_loss / len(val_loader),\n",
        "          1 - (total_iou / len(val_loader)),\n",
        "          1 - (total_dice / len(val_loader)),)"
      ],
      "metadata": {
        "id": "KvYjf2QI58vO"
      },
      "execution_count": null,
      "outputs": []
    },
    {
      "cell_type": "markdown",
      "source": [
        "### Train and Plot Learning Curve"
      ],
      "metadata": {
        "id": "TqeNMK7AIspl"
      }
    },
    {
      "cell_type": "code",
      "source": [
        "metrics = {\n",
        "    'train_loss': [],\n",
        "    'val_loss': [],\n",
        "    'iou_loss': [],\n",
        "    'dice_loss': [],\n",
        "}\n",
        "\n",
        "for epoch in range(NUM_EPOCHS):\n",
        "  print(f\"[INFO]: Epoch {epoch + 1} of {NUM_EPOCHS}\")\n",
        "  train_loss = train_one_epoch(model, train_loader, criterion, optimizer, scaler, DEVICE)\n",
        "  print(f'Mean Training Loss: {train_loss}')\n",
        "  val_loss, iou_loss, dice_loss = evaluate(model, val_loader, criterion, DEVICE)\n",
        "  print(f'Mean Validation Loss: {val_loss}')\n",
        "  print(f'Mean IOU Loss: {iou_loss}')\n",
        "  print(f'Mean Dice Loss: {dice_loss}')\n",
        "\n",
        "  metrics['train_loss'].append(train_loss)\n",
        "  metrics['val_loss'].append(val_loss)\n",
        "  metrics['iou_loss'].append(iou_loss)\n",
        "  metrics['dice_loss'].append(dice_loss)\n",
        "\n",
        "print('TRAINING FINISHED!')"
      ],
      "metadata": {
        "colab": {
          "base_uri": "https://localhost:8080/"
        },
        "id": "naqBTO7MA1Yp",
        "outputId": "c99ac33b-7297-4765-fc8e-dbfb12d5d5b1"
      },
      "execution_count": null,
      "outputs": [
        {
          "output_type": "stream",
          "name": "stdout",
          "text": [
            "[INFO]: Epoch 1 of 100\n",
            "____Training_____\n"
          ]
        },
        {
          "output_type": "stream",
          "name": "stderr",
          "text": [
            "100%|██████████| 23/23 [02:45<00:00,  7.22s/it, loss=1.37]\n"
          ]
        },
        {
          "output_type": "stream",
          "name": "stdout",
          "text": [
            "Mean Training Loss: 1.874558334765227\n",
            "____Evaluating_____\n"
          ]
        },
        {
          "output_type": "stream",
          "name": "stderr",
          "text": [
            "100%|██████████| 7/7 [01:20<00:00, 11.49s/it, loss=2.8]\n"
          ]
        },
        {
          "output_type": "stream",
          "name": "stdout",
          "text": [
            "Mean Validation Loss: 2.7256453718457903\n",
            "Mean IOU Loss: 0.9265967373337064\n",
            "Mean Dice Loss: 0.6570547648838588\n",
            "[INFO]: Epoch 2 of 100\n",
            "____Training_____\n"
          ]
        },
        {
          "output_type": "stream",
          "name": "stderr",
          "text": [
            "100%|██████████| 23/23 [00:05<00:00,  4.21it/s, loss=0.875]\n"
          ]
        },
        {
          "output_type": "stream",
          "name": "stdout",
          "text": [
            "Mean Training Loss: 1.025365166042162\n",
            "____Evaluating_____\n"
          ]
        },
        {
          "output_type": "stream",
          "name": "stderr",
          "text": [
            "100%|██████████| 7/7 [00:01<00:00,  4.24it/s, loss=1.1]\n"
          ]
        },
        {
          "output_type": "stream",
          "name": "stdout",
          "text": [
            "Mean Validation Loss: 1.102653639657157\n",
            "Mean IOU Loss: 0.8312492264168603\n",
            "Mean Dice Loss: 0.38064852782658165\n",
            "[INFO]: Epoch 3 of 100\n",
            "____Training_____\n"
          ]
        },
        {
          "output_type": "stream",
          "name": "stderr",
          "text": [
            "100%|██████████| 23/23 [00:07<00:00,  3.26it/s, loss=0.767]\n"
          ]
        },
        {
          "output_type": "stream",
          "name": "stdout",
          "text": [
            "Mean Training Loss: 0.807808272216631\n",
            "____Evaluating_____\n"
          ]
        },
        {
          "output_type": "stream",
          "name": "stderr",
          "text": [
            "100%|██████████| 7/7 [00:01<00:00,  3.99it/s, loss=0.869]\n"
          ]
        },
        {
          "output_type": "stream",
          "name": "stdout",
          "text": [
            "Mean Validation Loss: 0.8636678372110639\n",
            "Mean IOU Loss: 0.7294647012438094\n",
            "Mean Dice Loss: 0.2459273764065334\n",
            "[INFO]: Epoch 4 of 100\n",
            "____Training_____\n"
          ]
        },
        {
          "output_type": "stream",
          "name": "stderr",
          "text": [
            "100%|██████████| 23/23 [00:05<00:00,  4.28it/s, loss=0.677]\n"
          ]
        },
        {
          "output_type": "stream",
          "name": "stdout",
          "text": [
            "Mean Training Loss: 0.7102771945621656\n",
            "____Evaluating_____\n"
          ]
        },
        {
          "output_type": "stream",
          "name": "stderr",
          "text": [
            "100%|██████████| 7/7 [00:02<00:00,  2.94it/s, loss=0.855]\n"
          ]
        },
        {
          "output_type": "stream",
          "name": "stdout",
          "text": [
            "Mean Validation Loss: 0.8352904149464199\n",
            "Mean IOU Loss: 0.7350416609219143\n",
            "Mean Dice Loss: 0.27339842489787514\n",
            "[INFO]: Epoch 5 of 100\n",
            "____Training_____\n"
          ]
        },
        {
          "output_type": "stream",
          "name": "stderr",
          "text": [
            "100%|██████████| 23/23 [00:06<00:00,  3.63it/s, loss=0.573]\n"
          ]
        },
        {
          "output_type": "stream",
          "name": "stdout",
          "text": [
            "Mean Training Loss: 0.6389992133430813\n",
            "____Evaluating_____\n"
          ]
        },
        {
          "output_type": "stream",
          "name": "stderr",
          "text": [
            "100%|██████████| 7/7 [00:01<00:00,  4.21it/s, loss=0.677]\n"
          ]
        },
        {
          "output_type": "stream",
          "name": "stdout",
          "text": [
            "Mean Validation Loss: 0.6985360043389457\n",
            "Mean IOU Loss: 0.6858500582831246\n",
            "Mean Dice Loss: 0.20709092276436947\n",
            "[INFO]: Epoch 6 of 100\n",
            "____Training_____\n"
          ]
        },
        {
          "output_type": "stream",
          "name": "stderr",
          "text": [
            "100%|██████████| 23/23 [00:06<00:00,  3.82it/s, loss=0.554]\n"
          ]
        },
        {
          "output_type": "stream",
          "name": "stdout",
          "text": [
            "Mean Training Loss: 0.5763329837633215\n",
            "____Evaluating_____\n"
          ]
        },
        {
          "output_type": "stream",
          "name": "stderr",
          "text": [
            "100%|██████████| 7/7 [00:02<00:00,  2.61it/s, loss=0.682]\n"
          ]
        },
        {
          "output_type": "stream",
          "name": "stdout",
          "text": [
            "Mean Validation Loss: 0.6945105280194964\n",
            "Mean IOU Loss: 0.6613659730979374\n",
            "Mean Dice Loss: 0.19660884141921997\n",
            "[INFO]: Epoch 7 of 100\n",
            "____Training_____\n"
          ]
        },
        {
          "output_type": "stream",
          "name": "stderr",
          "text": [
            "100%|██████████| 23/23 [00:05<00:00,  4.22it/s, loss=0.491]\n"
          ]
        },
        {
          "output_type": "stream",
          "name": "stdout",
          "text": [
            "Mean Training Loss: 0.5464827534945115\n",
            "____Evaluating_____\n"
          ]
        },
        {
          "output_type": "stream",
          "name": "stderr",
          "text": [
            "100%|██████████| 7/7 [00:01<00:00,  4.16it/s, loss=0.575]\n"
          ]
        },
        {
          "output_type": "stream",
          "name": "stdout",
          "text": [
            "Mean Validation Loss: 0.6251204184123448\n",
            "Mean IOU Loss: 0.6484994718006679\n",
            "Mean Dice Loss: 0.16725163800375797\n",
            "[INFO]: Epoch 8 of 100\n",
            "____Training_____\n"
          ]
        },
        {
          "output_type": "stream",
          "name": "stderr",
          "text": [
            "100%|██████████| 23/23 [00:06<00:00,  3.32it/s, loss=0.583]\n"
          ]
        },
        {
          "output_type": "stream",
          "name": "stdout",
          "text": [
            "Mean Training Loss: 0.5100235576214998\n",
            "____Evaluating_____\n"
          ]
        },
        {
          "output_type": "stream",
          "name": "stderr",
          "text": [
            "100%|██████████| 7/7 [00:01<00:00,  3.78it/s, loss=0.522]\n"
          ]
        },
        {
          "output_type": "stream",
          "name": "stdout",
          "text": [
            "Mean Validation Loss: 0.5655567986624581\n",
            "Mean IOU Loss: 0.6355468290192741\n",
            "Mean Dice Loss: 0.16395530530384606\n",
            "[INFO]: Epoch 9 of 100\n",
            "____Training_____\n"
          ]
        },
        {
          "output_type": "stream",
          "name": "stderr",
          "text": [
            "100%|██████████| 23/23 [00:05<00:00,  3.92it/s, loss=0.405]\n"
          ]
        },
        {
          "output_type": "stream",
          "name": "stdout",
          "text": [
            "Mean Training Loss: 0.4883137708124907\n",
            "____Evaluating_____\n"
          ]
        },
        {
          "output_type": "stream",
          "name": "stderr",
          "text": [
            "100%|██████████| 7/7 [00:02<00:00,  2.56it/s, loss=0.478]\n"
          ]
        },
        {
          "output_type": "stream",
          "name": "stdout",
          "text": [
            "Mean Validation Loss: 0.5367091085229602\n",
            "Mean IOU Loss: 0.622232518025807\n",
            "Mean Dice Loss: 0.15013574702399113\n",
            "[INFO]: Epoch 10 of 100\n",
            "____Training_____\n"
          ]
        },
        {
          "output_type": "stream",
          "name": "stderr",
          "text": [
            "100%|██████████| 23/23 [00:07<00:00,  3.14it/s, loss=0.412]\n"
          ]
        },
        {
          "output_type": "stream",
          "name": "stdout",
          "text": [
            "Mean Training Loss: 0.4547969971014106\n",
            "____Evaluating_____\n"
          ]
        },
        {
          "output_type": "stream",
          "name": "stderr",
          "text": [
            "100%|██████████| 7/7 [00:01<00:00,  4.06it/s, loss=0.447]\n"
          ]
        },
        {
          "output_type": "stream",
          "name": "stdout",
          "text": [
            "Mean Validation Loss: 0.49441236683300566\n",
            "Mean IOU Loss: 0.6124342467103685\n",
            "Mean Dice Loss: 0.14651276384081158\n",
            "[INFO]: Epoch 11 of 100\n",
            "____Training_____\n"
          ]
        },
        {
          "output_type": "stream",
          "name": "stderr",
          "text": [
            "100%|██████████| 23/23 [00:05<00:00,  4.22it/s, loss=0.519]\n"
          ]
        },
        {
          "output_type": "stream",
          "name": "stdout",
          "text": [
            "Mean Training Loss: 0.4326050722080728\n",
            "____Evaluating_____\n"
          ]
        },
        {
          "output_type": "stream",
          "name": "stderr",
          "text": [
            "100%|██████████| 7/7 [00:02<00:00,  2.71it/s, loss=0.471]\n"
          ]
        },
        {
          "output_type": "stream",
          "name": "stdout",
          "text": [
            "Mean Validation Loss: 0.5076293221541813\n",
            "Mean IOU Loss: 0.6238966413906643\n",
            "Mean Dice Loss: 0.1510118756975446\n",
            "[INFO]: Epoch 12 of 100\n",
            "____Training_____\n"
          ]
        },
        {
          "output_type": "stream",
          "name": "stderr",
          "text": [
            "100%|██████████| 23/23 [00:06<00:00,  3.69it/s, loss=0.418]\n"
          ]
        },
        {
          "output_type": "stream",
          "name": "stdout",
          "text": [
            "Mean Training Loss: 0.4199509918689728\n",
            "____Evaluating_____\n"
          ]
        },
        {
          "output_type": "stream",
          "name": "stderr",
          "text": [
            "100%|██████████| 7/7 [00:01<00:00,  3.98it/s, loss=0.56]\n"
          ]
        },
        {
          "output_type": "stream",
          "name": "stdout",
          "text": [
            "Mean Validation Loss: 0.5808364493506295\n",
            "Mean IOU Loss: 0.6340792860303606\n",
            "Mean Dice Loss: 0.1838521957397461\n",
            "[INFO]: Epoch 13 of 100\n",
            "____Training_____\n"
          ]
        },
        {
          "output_type": "stream",
          "name": "stderr",
          "text": [
            "100%|██████████| 23/23 [00:06<00:00,  3.67it/s, loss=0.4]\n"
          ]
        },
        {
          "output_type": "stream",
          "name": "stdout",
          "text": [
            "Mean Training Loss: 0.40116245979848114\n",
            "____Evaluating_____\n"
          ]
        },
        {
          "output_type": "stream",
          "name": "stderr",
          "text": [
            "100%|██████████| 7/7 [00:02<00:00,  2.77it/s, loss=0.411]\n"
          ]
        },
        {
          "output_type": "stream",
          "name": "stdout",
          "text": [
            "Mean Validation Loss: 0.4597336905343192\n",
            "Mean IOU Loss: 0.5784511182989394\n",
            "Mean Dice Loss: 0.13809958526066368\n",
            "[INFO]: Epoch 14 of 100\n",
            "____Training_____\n"
          ]
        },
        {
          "output_type": "stream",
          "name": "stderr",
          "text": [
            "100%|██████████| 23/23 [00:05<00:00,  4.19it/s, loss=0.412]\n"
          ]
        },
        {
          "output_type": "stream",
          "name": "stdout",
          "text": [
            "Mean Training Loss: 0.38669677143511566\n",
            "____Evaluating_____\n"
          ]
        },
        {
          "output_type": "stream",
          "name": "stderr",
          "text": [
            "100%|██████████| 7/7 [00:01<00:00,  4.11it/s, loss=0.419]\n"
          ]
        },
        {
          "output_type": "stream",
          "name": "stdout",
          "text": [
            "Mean Validation Loss: 0.4639155226094382\n",
            "Mean IOU Loss: 0.5757196417876652\n",
            "Mean Dice Loss: 0.13622109379087177\n",
            "[INFO]: Epoch 15 of 100\n",
            "____Training_____\n"
          ]
        },
        {
          "output_type": "stream",
          "name": "stderr",
          "text": [
            "100%|██████████| 23/23 [00:07<00:00,  3.26it/s, loss=0.347]\n"
          ]
        },
        {
          "output_type": "stream",
          "name": "stdout",
          "text": [
            "Mean Training Loss: 0.3825425427892934\n",
            "____Evaluating_____\n"
          ]
        },
        {
          "output_type": "stream",
          "name": "stderr",
          "text": [
            "100%|██████████| 7/7 [00:01<00:00,  4.13it/s, loss=0.414]\n"
          ]
        },
        {
          "output_type": "stream",
          "name": "stdout",
          "text": [
            "Mean Validation Loss: 0.4667367807456425\n",
            "Mean IOU Loss: 0.5938279458454677\n",
            "Mean Dice Loss: 0.14321000235421322\n",
            "[INFO]: Epoch 16 of 100\n",
            "____Training_____\n"
          ]
        },
        {
          "output_type": "stream",
          "name": "stderr",
          "text": [
            "100%|██████████| 23/23 [00:05<00:00,  4.24it/s, loss=0.406]\n"
          ]
        },
        {
          "output_type": "stream",
          "name": "stdout",
          "text": [
            "Mean Training Loss: 0.3655477049558059\n",
            "____Evaluating_____\n"
          ]
        },
        {
          "output_type": "stream",
          "name": "stderr",
          "text": [
            "100%|██████████| 7/7 [00:01<00:00,  4.27it/s, loss=0.43]\n"
          ]
        },
        {
          "output_type": "stream",
          "name": "stdout",
          "text": [
            "Mean Validation Loss: 0.48363439100129263\n",
            "Mean IOU Loss: 0.5841022857597896\n",
            "Mean Dice Loss: 0.1442347935267857\n",
            "[INFO]: Epoch 17 of 100\n",
            "____Training_____\n"
          ]
        },
        {
          "output_type": "stream",
          "name": "stderr",
          "text": [
            "100%|██████████| 23/23 [00:07<00:00,  3.20it/s, loss=0.372]\n"
          ]
        },
        {
          "output_type": "stream",
          "name": "stdout",
          "text": [
            "Mean Training Loss: 0.35847389179727307\n",
            "____Evaluating_____\n"
          ]
        },
        {
          "output_type": "stream",
          "name": "stderr",
          "text": [
            "100%|██████████| 7/7 [00:01<00:00,  4.14it/s, loss=0.432]\n"
          ]
        },
        {
          "output_type": "stream",
          "name": "stdout",
          "text": [
            "Mean Validation Loss: 0.47717417563710895\n",
            "Mean IOU Loss: 0.5922714514391763\n",
            "Mean Dice Loss: 0.15320780447551186\n",
            "[INFO]: Epoch 18 of 100\n",
            "____Training_____\n"
          ]
        },
        {
          "output_type": "stream",
          "name": "stderr",
          "text": [
            "100%|██████████| 23/23 [00:05<00:00,  4.13it/s, loss=0.351]\n"
          ]
        },
        {
          "output_type": "stream",
          "name": "stdout",
          "text": [
            "Mean Training Loss: 0.34463911859885504\n",
            "____Evaluating_____\n"
          ]
        },
        {
          "output_type": "stream",
          "name": "stderr",
          "text": [
            "100%|██████████| 7/7 [00:01<00:00,  3.58it/s, loss=0.387]\n"
          ]
        },
        {
          "output_type": "stream",
          "name": "stdout",
          "text": [
            "Mean Validation Loss: 0.4283928487982069\n",
            "Mean IOU Loss: 0.5671088482652391\n",
            "Mean Dice Loss: 0.13318568468093872\n",
            "[INFO]: Epoch 19 of 100\n",
            "____Training_____\n"
          ]
        },
        {
          "output_type": "stream",
          "name": "stderr",
          "text": [
            "100%|██████████| 23/23 [00:06<00:00,  3.36it/s, loss=0.284]\n"
          ]
        },
        {
          "output_type": "stream",
          "name": "stdout",
          "text": [
            "Mean Training Loss: 0.32891478875409\n",
            "____Evaluating_____\n"
          ]
        },
        {
          "output_type": "stream",
          "name": "stderr",
          "text": [
            "100%|██████████| 7/7 [00:01<00:00,  4.00it/s, loss=0.455]\n"
          ]
        },
        {
          "output_type": "stream",
          "name": "stdout",
          "text": [
            "Mean Validation Loss: 0.4946150779724121\n",
            "Mean IOU Loss: 0.5936904890196664\n",
            "Mean Dice Loss: 0.15640991926193237\n",
            "[INFO]: Epoch 20 of 100\n",
            "____Training_____\n"
          ]
        },
        {
          "output_type": "stream",
          "name": "stderr",
          "text": [
            "100%|██████████| 23/23 [00:05<00:00,  4.05it/s, loss=0.312]\n"
          ]
        },
        {
          "output_type": "stream",
          "name": "stdout",
          "text": [
            "Mean Training Loss: 0.313578601764596\n",
            "____Evaluating_____\n"
          ]
        },
        {
          "output_type": "stream",
          "name": "stderr",
          "text": [
            "100%|██████████| 7/7 [00:02<00:00,  2.71it/s, loss=0.393]\n"
          ]
        },
        {
          "output_type": "stream",
          "name": "stdout",
          "text": [
            "Mean Validation Loss: 0.44330081769398283\n",
            "Mean IOU Loss: 0.5520533408437456\n",
            "Mean Dice Loss: 0.13562480040958946\n",
            "[INFO]: Epoch 21 of 100\n",
            "____Training_____\n"
          ]
        },
        {
          "output_type": "stream",
          "name": "stderr",
          "text": [
            "100%|██████████| 23/23 [00:05<00:00,  3.90it/s, loss=0.27]\n"
          ]
        },
        {
          "output_type": "stream",
          "name": "stdout",
          "text": [
            "Mean Training Loss: 0.29927480998246564\n",
            "____Evaluating_____\n"
          ]
        },
        {
          "output_type": "stream",
          "name": "stderr",
          "text": [
            "100%|██████████| 7/7 [00:01<00:00,  4.15it/s, loss=0.361]\n"
          ]
        },
        {
          "output_type": "stream",
          "name": "stdout",
          "text": [
            "Mean Validation Loss: 0.4063475557735988\n",
            "Mean IOU Loss: 0.5648548517908369\n",
            "Mean Dice Loss: 0.12573866333280292\n",
            "[INFO]: Epoch 22 of 100\n",
            "____Training_____\n"
          ]
        },
        {
          "output_type": "stream",
          "name": "stderr",
          "text": [
            "100%|██████████| 23/23 [00:06<00:00,  3.49it/s, loss=0.267]\n"
          ]
        },
        {
          "output_type": "stream",
          "name": "stdout",
          "text": [
            "Mean Training Loss: 0.2901729390673015\n",
            "____Evaluating_____\n"
          ]
        },
        {
          "output_type": "stream",
          "name": "stderr",
          "text": [
            "100%|██████████| 7/7 [00:02<00:00,  3.03it/s, loss=0.362]\n"
          ]
        },
        {
          "output_type": "stream",
          "name": "stdout",
          "text": [
            "Mean Validation Loss: 0.40446443217141287\n",
            "Mean IOU Loss: 0.5310389484677995\n",
            "Mean Dice Loss: 0.1243571979658944\n",
            "[INFO]: Epoch 23 of 100\n",
            "____Training_____\n"
          ]
        },
        {
          "output_type": "stream",
          "name": "stderr",
          "text": [
            "100%|██████████| 23/23 [00:05<00:00,  4.14it/s, loss=0.279]\n"
          ]
        },
        {
          "output_type": "stream",
          "name": "stdout",
          "text": [
            "Mean Training Loss: 0.28709577736647235\n",
            "____Evaluating_____\n"
          ]
        },
        {
          "output_type": "stream",
          "name": "stderr",
          "text": [
            "100%|██████████| 7/7 [00:01<00:00,  4.11it/s, loss=0.343]\n"
          ]
        },
        {
          "output_type": "stream",
          "name": "stdout",
          "text": [
            "Mean Validation Loss: 0.40798246009009226\n",
            "Mean IOU Loss: 0.5310523126806532\n",
            "Mean Dice Loss: 0.12318840197154457\n",
            "[INFO]: Epoch 24 of 100\n",
            "____Training_____\n"
          ]
        },
        {
          "output_type": "stream",
          "name": "stderr",
          "text": [
            "100%|██████████| 23/23 [00:07<00:00,  3.23it/s, loss=0.322]\n"
          ]
        },
        {
          "output_type": "stream",
          "name": "stdout",
          "text": [
            "Mean Training Loss: 0.28220560952373175\n",
            "____Evaluating_____\n"
          ]
        },
        {
          "output_type": "stream",
          "name": "stderr",
          "text": [
            "100%|██████████| 7/7 [00:01<00:00,  4.21it/s, loss=0.361]\n"
          ]
        },
        {
          "output_type": "stream",
          "name": "stdout",
          "text": [
            "Mean Validation Loss: 0.4209849791867392\n",
            "Mean IOU Loss: 0.537927440234593\n",
            "Mean Dice Loss: 0.1315896170479911\n",
            "[INFO]: Epoch 25 of 100\n",
            "____Training_____\n"
          ]
        },
        {
          "output_type": "stream",
          "name": "stderr",
          "text": [
            "100%|██████████| 23/23 [00:05<00:00,  4.14it/s, loss=0.296]\n"
          ]
        },
        {
          "output_type": "stream",
          "name": "stdout",
          "text": [
            "Mean Training Loss: 0.272408589720726\n",
            "____Evaluating_____\n"
          ]
        },
        {
          "output_type": "stream",
          "name": "stderr",
          "text": [
            "100%|██████████| 7/7 [00:01<00:00,  3.95it/s, loss=0.354]\n"
          ]
        },
        {
          "output_type": "stream",
          "name": "stdout",
          "text": [
            "Mean Validation Loss: 0.41300888998167856\n",
            "Mean IOU Loss: 0.5267168624060494\n",
            "Mean Dice Loss: 0.12633271728243145\n",
            "[INFO]: Epoch 26 of 100\n",
            "____Training_____\n"
          ]
        },
        {
          "output_type": "stream",
          "name": "stderr",
          "text": [
            "100%|██████████| 23/23 [00:07<00:00,  3.16it/s, loss=0.279]\n"
          ]
        },
        {
          "output_type": "stream",
          "name": "stdout",
          "text": [
            "Mean Training Loss: 0.2651817772699439\n",
            "____Evaluating_____\n"
          ]
        },
        {
          "output_type": "stream",
          "name": "stderr",
          "text": [
            "100%|██████████| 7/7 [00:01<00:00,  4.19it/s, loss=0.343]\n"
          ]
        },
        {
          "output_type": "stream",
          "name": "stdout",
          "text": [
            "Mean Validation Loss: 0.39907617228371756\n",
            "Mean IOU Loss: 0.5233475182737624\n",
            "Mean Dice Loss: 0.12182099478585384\n",
            "[INFO]: Epoch 27 of 100\n",
            "____Training_____\n"
          ]
        },
        {
          "output_type": "stream",
          "name": "stderr",
          "text": [
            "100%|██████████| 23/23 [00:05<00:00,  4.19it/s, loss=0.268]\n"
          ]
        },
        {
          "output_type": "stream",
          "name": "stdout",
          "text": [
            "Mean Training Loss: 0.26034358726895374\n",
            "____Evaluating_____\n"
          ]
        },
        {
          "output_type": "stream",
          "name": "stderr",
          "text": [
            "100%|██████████| 7/7 [00:02<00:00,  3.11it/s, loss=0.337]\n"
          ]
        },
        {
          "output_type": "stream",
          "name": "stdout",
          "text": [
            "Mean Validation Loss: 0.38723557761737276\n",
            "Mean IOU Loss: 0.5182574221066066\n",
            "Mean Dice Loss: 0.12089942182813374\n",
            "[INFO]: Epoch 28 of 100\n",
            "____Training_____\n"
          ]
        },
        {
          "output_type": "stream",
          "name": "stderr",
          "text": [
            "100%|██████████| 23/23 [00:06<00:00,  3.56it/s, loss=0.267]\n"
          ]
        },
        {
          "output_type": "stream",
          "name": "stdout",
          "text": [
            "Mean Training Loss: 0.2538466012996176\n",
            "____Evaluating_____\n"
          ]
        },
        {
          "output_type": "stream",
          "name": "stderr",
          "text": [
            "100%|██████████| 7/7 [00:01<00:00,  4.11it/s, loss=0.381]\n"
          ]
        },
        {
          "output_type": "stream",
          "name": "stdout",
          "text": [
            "Mean Validation Loss: 0.43240574853760855\n",
            "Mean IOU Loss: 0.5109832755156926\n",
            "Mean Dice Loss: 0.12326011487415856\n",
            "[INFO]: Epoch 29 of 100\n",
            "____Training_____\n"
          ]
        },
        {
          "output_type": "stream",
          "name": "stderr",
          "text": [
            "100%|██████████| 23/23 [00:06<00:00,  3.33it/s, loss=0.229]\n"
          ]
        },
        {
          "output_type": "stream",
          "name": "stdout",
          "text": [
            "Mean Training Loss: 0.2532228691422421\n",
            "____Evaluating_____\n"
          ]
        },
        {
          "output_type": "stream",
          "name": "stderr",
          "text": [
            "100%|██████████| 7/7 [00:03<00:00,  2.32it/s, loss=0.351]\n"
          ]
        },
        {
          "output_type": "stream",
          "name": "stdout",
          "text": [
            "Mean Validation Loss: 0.41117987036705017\n",
            "Mean IOU Loss: 0.5151155718735286\n",
            "Mean Dice Loss: 0.12543528420584538\n",
            "[INFO]: Epoch 30 of 100\n",
            "____Training_____\n"
          ]
        },
        {
          "output_type": "stream",
          "name": "stderr",
          "text": [
            "100%|██████████| 23/23 [00:06<00:00,  3.76it/s, loss=0.216]\n"
          ]
        },
        {
          "output_type": "stream",
          "name": "stdout",
          "text": [
            "Mean Training Loss: 0.24471380529196365\n",
            "____Evaluating_____\n"
          ]
        },
        {
          "output_type": "stream",
          "name": "stderr",
          "text": [
            "100%|██████████| 7/7 [00:01<00:00,  4.08it/s, loss=0.346]\n"
          ]
        },
        {
          "output_type": "stream",
          "name": "stdout",
          "text": [
            "Mean Validation Loss: 0.39169386880738394\n",
            "Mean IOU Loss: 0.5131606544767107\n",
            "Mean Dice Loss: 0.11732297284262516\n",
            "[INFO]: Epoch 31 of 100\n",
            "____Training_____\n"
          ]
        },
        {
          "output_type": "stream",
          "name": "stderr",
          "text": [
            "100%|██████████| 23/23 [00:06<00:00,  3.61it/s, loss=0.294]\n"
          ]
        },
        {
          "output_type": "stream",
          "name": "stdout",
          "text": [
            "Mean Training Loss: 0.24093566381413004\n",
            "____Evaluating_____\n"
          ]
        },
        {
          "output_type": "stream",
          "name": "stderr",
          "text": [
            "100%|██████████| 7/7 [00:02<00:00,  2.84it/s, loss=0.331]\n"
          ]
        },
        {
          "output_type": "stream",
          "name": "stdout",
          "text": [
            "Mean Validation Loss: 0.3781237942831857\n",
            "Mean IOU Loss: 0.5261359853403909\n",
            "Mean Dice Loss: 0.11855656760079525\n",
            "[INFO]: Epoch 32 of 100\n",
            "____Training_____\n"
          ]
        },
        {
          "output_type": "stream",
          "name": "stderr",
          "text": [
            "100%|██████████| 23/23 [00:05<00:00,  4.09it/s, loss=0.231]\n"
          ]
        },
        {
          "output_type": "stream",
          "name": "stdout",
          "text": [
            "Mean Training Loss: 0.23367976040943808\n",
            "____Evaluating_____\n"
          ]
        },
        {
          "output_type": "stream",
          "name": "stderr",
          "text": [
            "100%|██████████| 7/7 [00:01<00:00,  4.06it/s, loss=0.38]\n"
          ]
        },
        {
          "output_type": "stream",
          "name": "stdout",
          "text": [
            "Mean Validation Loss: 0.42446906651769367\n",
            "Mean IOU Loss: 0.4968201773507255\n",
            "Mean Dice Loss: 0.1297791344778878\n",
            "[INFO]: Epoch 33 of 100\n",
            "____Training_____\n"
          ]
        },
        {
          "output_type": "stream",
          "name": "stderr",
          "text": [
            "100%|██████████| 23/23 [00:07<00:00,  3.17it/s, loss=0.222]\n"
          ]
        },
        {
          "output_type": "stream",
          "name": "stdout",
          "text": [
            "Mean Training Loss: 0.23131511133650076\n",
            "____Evaluating_____\n"
          ]
        },
        {
          "output_type": "stream",
          "name": "stderr",
          "text": [
            "100%|██████████| 7/7 [00:01<00:00,  4.12it/s, loss=0.342]\n"
          ]
        },
        {
          "output_type": "stream",
          "name": "stdout",
          "text": [
            "Mean Validation Loss: 0.38704044478280203\n",
            "Mean IOU Loss: 0.5050626141684396\n",
            "Mean Dice Loss: 0.11559317793164936\n",
            "[INFO]: Epoch 34 of 100\n",
            "____Training_____\n"
          ]
        },
        {
          "output_type": "stream",
          "name": "stderr",
          "text": [
            "100%|██████████| 23/23 [00:05<00:00,  4.20it/s, loss=0.228]\n"
          ]
        },
        {
          "output_type": "stream",
          "name": "stdout",
          "text": [
            "Mean Training Loss: 0.22308411675950754\n",
            "____Evaluating_____\n"
          ]
        },
        {
          "output_type": "stream",
          "name": "stderr",
          "text": [
            "100%|██████████| 7/7 [00:01<00:00,  4.10it/s, loss=0.33]\n"
          ]
        },
        {
          "output_type": "stream",
          "name": "stdout",
          "text": [
            "Mean Validation Loss: 0.3891040299619947\n",
            "Mean IOU Loss: 0.5344761397157396\n",
            "Mean Dice Loss: 0.11918002367019653\n",
            "[INFO]: Epoch 35 of 100\n",
            "____Training_____\n"
          ]
        },
        {
          "output_type": "stream",
          "name": "stderr",
          "text": [
            "100%|██████████| 23/23 [00:07<00:00,  3.18it/s, loss=0.256]\n"
          ]
        },
        {
          "output_type": "stream",
          "name": "stdout",
          "text": [
            "Mean Training Loss: 0.21934269433436188\n",
            "____Evaluating_____\n"
          ]
        },
        {
          "output_type": "stream",
          "name": "stderr",
          "text": [
            "100%|██████████| 7/7 [00:01<00:00,  3.97it/s, loss=0.389]\n"
          ]
        },
        {
          "output_type": "stream",
          "name": "stdout",
          "text": [
            "Mean Validation Loss: 0.4356683109487806\n",
            "Mean IOU Loss: 0.505931100675038\n",
            "Mean Dice Loss: 0.12818434408732826\n",
            "[INFO]: Epoch 36 of 100\n",
            "____Training_____\n"
          ]
        },
        {
          "output_type": "stream",
          "name": "stderr",
          "text": [
            "100%|██████████| 23/23 [00:05<00:00,  4.17it/s, loss=0.235]\n"
          ]
        },
        {
          "output_type": "stream",
          "name": "stdout",
          "text": [
            "Mean Training Loss: 0.21869856767032458\n",
            "____Evaluating_____\n"
          ]
        },
        {
          "output_type": "stream",
          "name": "stderr",
          "text": [
            "100%|██████████| 7/7 [00:02<00:00,  3.03it/s, loss=0.35]\n"
          ]
        },
        {
          "output_type": "stream",
          "name": "stdout",
          "text": [
            "Mean Validation Loss: 0.41253325768879484\n",
            "Mean IOU Loss: 0.5416587037699563\n",
            "Mean Dice Loss: 0.1269497701099941\n",
            "[INFO]: Epoch 37 of 100\n",
            "____Training_____\n"
          ]
        },
        {
          "output_type": "stream",
          "name": "stderr",
          "text": [
            "100%|██████████| 23/23 [00:06<00:00,  3.49it/s, loss=0.21]\n"
          ]
        },
        {
          "output_type": "stream",
          "name": "stdout",
          "text": [
            "Mean Training Loss: 0.2225849460000577\n",
            "____Evaluating_____\n"
          ]
        },
        {
          "output_type": "stream",
          "name": "stderr",
          "text": [
            "100%|██████████| 7/7 [00:01<00:00,  4.06it/s, loss=0.376]\n"
          ]
        },
        {
          "output_type": "stream",
          "name": "stdout",
          "text": [
            "Mean Validation Loss: 0.4399602157729013\n",
            "Mean IOU Loss: 0.5129449154649461\n",
            "Mean Dice Loss: 0.1275039144924709\n",
            "[INFO]: Epoch 38 of 100\n",
            "____Training_____\n"
          ]
        },
        {
          "output_type": "stream",
          "name": "stderr",
          "text": [
            "100%|██████████| 23/23 [00:06<00:00,  3.78it/s, loss=0.191]\n"
          ]
        },
        {
          "output_type": "stream",
          "name": "stdout",
          "text": [
            "Mean Training Loss: 0.22366497633249863\n",
            "____Evaluating_____\n"
          ]
        },
        {
          "output_type": "stream",
          "name": "stderr",
          "text": [
            "100%|██████████| 7/7 [00:02<00:00,  2.63it/s, loss=0.324]\n"
          ]
        },
        {
          "output_type": "stream",
          "name": "stdout",
          "text": [
            "Mean Validation Loss: 0.3781947195529938\n",
            "Mean IOU Loss: 0.5007514144693102\n",
            "Mean Dice Loss: 0.11866605281829834\n",
            "[INFO]: Epoch 39 of 100\n",
            "____Training_____\n"
          ]
        },
        {
          "output_type": "stream",
          "name": "stderr",
          "text": [
            "100%|██████████| 23/23 [00:05<00:00,  4.25it/s, loss=0.171]\n"
          ]
        },
        {
          "output_type": "stream",
          "name": "stdout",
          "text": [
            "Mean Training Loss: 0.21043798457021298\n",
            "____Evaluating_____\n"
          ]
        },
        {
          "output_type": "stream",
          "name": "stderr",
          "text": [
            "100%|██████████| 7/7 [00:01<00:00,  3.98it/s, loss=0.333]\n"
          ]
        },
        {
          "output_type": "stream",
          "name": "stdout",
          "text": [
            "Mean Validation Loss: 0.38277698840413776\n",
            "Mean IOU Loss: 0.500838143484933\n",
            "Mean Dice Loss: 0.11596521309443886\n",
            "[INFO]: Epoch 40 of 100\n",
            "____Training_____\n"
          ]
        },
        {
          "output_type": "stream",
          "name": "stderr",
          "text": [
            "100%|██████████| 23/23 [00:07<00:00,  3.22it/s, loss=0.222]\n"
          ]
        },
        {
          "output_type": "stream",
          "name": "stdout",
          "text": [
            "Mean Training Loss: 0.2055785824423251\n",
            "____Evaluating_____\n"
          ]
        },
        {
          "output_type": "stream",
          "name": "stderr",
          "text": [
            "100%|██████████| 7/7 [00:01<00:00,  3.75it/s, loss=0.377]\n"
          ]
        },
        {
          "output_type": "stream",
          "name": "stdout",
          "text": [
            "Mean Validation Loss: 0.4269948218550001\n",
            "Mean IOU Loss: 0.4927854495389121\n",
            "Mean Dice Loss: 0.1287897654942104\n",
            "[INFO]: Epoch 41 of 100\n",
            "____Training_____\n"
          ]
        },
        {
          "output_type": "stream",
          "name": "stderr",
          "text": [
            "100%|██████████| 23/23 [00:05<00:00,  4.27it/s, loss=0.194]\n"
          ]
        },
        {
          "output_type": "stream",
          "name": "stdout",
          "text": [
            "Mean Training Loss: 0.20586095620756564\n",
            "____Evaluating_____\n"
          ]
        },
        {
          "output_type": "stream",
          "name": "stderr",
          "text": [
            "100%|██████████| 7/7 [00:01<00:00,  4.08it/s, loss=0.373]\n"
          ]
        },
        {
          "output_type": "stream",
          "name": "stdout",
          "text": [
            "Mean Validation Loss: 0.40395023993083407\n",
            "Mean IOU Loss: 0.4984331471579415\n",
            "Mean Dice Loss: 0.12193420955112999\n",
            "[INFO]: Epoch 42 of 100\n",
            "____Training_____\n"
          ]
        },
        {
          "output_type": "stream",
          "name": "stderr",
          "text": [
            "100%|██████████| 23/23 [00:07<00:00,  3.23it/s, loss=0.198]\n"
          ]
        },
        {
          "output_type": "stream",
          "name": "stdout",
          "text": [
            "Mean Training Loss: 0.20122672941373743\n",
            "____Evaluating_____\n"
          ]
        },
        {
          "output_type": "stream",
          "name": "stderr",
          "text": [
            "100%|██████████| 7/7 [00:01<00:00,  4.11it/s, loss=0.364]\n"
          ]
        },
        {
          "output_type": "stream",
          "name": "stdout",
          "text": [
            "Mean Validation Loss: 0.4200599619320461\n",
            "Mean IOU Loss: 0.5065587248120988\n",
            "Mean Dice Loss: 0.12677506038120812\n",
            "[INFO]: Epoch 43 of 100\n",
            "____Training_____\n"
          ]
        },
        {
          "output_type": "stream",
          "name": "stderr",
          "text": [
            "100%|██████████| 23/23 [00:05<00:00,  4.21it/s, loss=0.173]\n"
          ]
        },
        {
          "output_type": "stream",
          "name": "stdout",
          "text": [
            "Mean Training Loss: 0.19587841435619022\n",
            "____Evaluating_____\n"
          ]
        },
        {
          "output_type": "stream",
          "name": "stderr",
          "text": [
            "100%|██████████| 7/7 [00:01<00:00,  3.69it/s, loss=0.329]\n"
          ]
        },
        {
          "output_type": "stream",
          "name": "stdout",
          "text": [
            "Mean Validation Loss: 0.38351113881383625\n",
            "Mean IOU Loss: 0.49613817249025616\n",
            "Mean Dice Loss: 0.11514489139829365\n",
            "[INFO]: Epoch 44 of 100\n",
            "____Training_____\n"
          ]
        },
        {
          "output_type": "stream",
          "name": "stderr",
          "text": [
            "100%|██████████| 23/23 [00:06<00:00,  3.35it/s, loss=0.171]\n"
          ]
        },
        {
          "output_type": "stream",
          "name": "stdout",
          "text": [
            "Mean Training Loss: 0.19259155314901602\n",
            "____Evaluating_____\n"
          ]
        },
        {
          "output_type": "stream",
          "name": "stderr",
          "text": [
            "100%|██████████| 7/7 [00:01<00:00,  3.98it/s, loss=0.349]\n"
          ]
        },
        {
          "output_type": "stream",
          "name": "stdout",
          "text": [
            "Mean Validation Loss: 0.4065482658999307\n",
            "Mean IOU Loss: 0.48776716845376156\n",
            "Mean Dice Loss: 0.12270178113664898\n",
            "[INFO]: Epoch 45 of 100\n",
            "____Training_____\n"
          ]
        },
        {
          "output_type": "stream",
          "name": "stderr",
          "text": [
            "100%|██████████| 23/23 [00:05<00:00,  4.23it/s, loss=0.206]\n"
          ]
        },
        {
          "output_type": "stream",
          "name": "stdout",
          "text": [
            "Mean Training Loss: 0.19325734545355258\n",
            "____Evaluating_____\n"
          ]
        },
        {
          "output_type": "stream",
          "name": "stderr",
          "text": [
            "100%|██████████| 7/7 [00:02<00:00,  2.56it/s, loss=0.311]\n"
          ]
        },
        {
          "output_type": "stream",
          "name": "stdout",
          "text": [
            "Mean Validation Loss: 0.36670801043510437\n",
            "Mean IOU Loss: 0.48508813551494057\n",
            "Mean Dice Loss: 0.11513006687164307\n",
            "[INFO]: Epoch 46 of 100\n",
            "____Training_____\n"
          ]
        },
        {
          "output_type": "stream",
          "name": "stderr",
          "text": [
            "100%|██████████| 23/23 [00:06<00:00,  3.81it/s, loss=0.197]\n"
          ]
        },
        {
          "output_type": "stream",
          "name": "stdout",
          "text": [
            "Mean Training Loss: 0.1894935518503189\n",
            "____Evaluating_____\n"
          ]
        },
        {
          "output_type": "stream",
          "name": "stderr",
          "text": [
            "100%|██████████| 7/7 [00:01<00:00,  4.15it/s, loss=0.323]\n"
          ]
        },
        {
          "output_type": "stream",
          "name": "stdout",
          "text": [
            "Mean Validation Loss: 0.38692138876233784\n",
            "Mean IOU Loss: 0.4924580539975848\n",
            "Mean Dice Loss: 0.11598282200949528\n",
            "[INFO]: Epoch 47 of 100\n",
            "____Training_____\n"
          ]
        },
        {
          "output_type": "stream",
          "name": "stderr",
          "text": [
            "100%|██████████| 23/23 [00:06<00:00,  3.47it/s, loss=0.164]\n"
          ]
        },
        {
          "output_type": "stream",
          "name": "stdout",
          "text": [
            "Mean Training Loss: 0.18527645326179007\n",
            "____Evaluating_____\n"
          ]
        },
        {
          "output_type": "stream",
          "name": "stderr",
          "text": [
            "100%|██████████| 7/7 [00:02<00:00,  3.23it/s, loss=0.328]\n"
          ]
        },
        {
          "output_type": "stream",
          "name": "stdout",
          "text": [
            "Mean Validation Loss: 0.3887403735092708\n",
            "Mean IOU Loss: 0.5006002954074315\n",
            "Mean Dice Loss: 0.11650145053863525\n",
            "[INFO]: Epoch 48 of 100\n",
            "____Training_____\n"
          ]
        },
        {
          "output_type": "stream",
          "name": "stderr",
          "text": [
            "100%|██████████| 23/23 [00:05<00:00,  4.15it/s, loss=0.185]\n"
          ]
        },
        {
          "output_type": "stream",
          "name": "stdout",
          "text": [
            "Mean Training Loss: 0.18424139722533847\n",
            "____Evaluating_____\n"
          ]
        },
        {
          "output_type": "stream",
          "name": "stderr",
          "text": [
            "100%|██████████| 7/7 [00:01<00:00,  4.08it/s, loss=0.33]\n"
          ]
        },
        {
          "output_type": "stream",
          "name": "stdout",
          "text": [
            "Mean Validation Loss: 0.3775049149990082\n",
            "Mean IOU Loss: 0.4840664097240993\n",
            "Mean Dice Loss: 0.11680107457297184\n",
            "[INFO]: Epoch 49 of 100\n",
            "____Training_____\n"
          ]
        },
        {
          "output_type": "stream",
          "name": "stderr",
          "text": [
            "100%|██████████| 23/23 [00:09<00:00,  2.55it/s, loss=0.2]\n"
          ]
        },
        {
          "output_type": "stream",
          "name": "stdout",
          "text": [
            "Mean Training Loss: 0.18006129368491794\n",
            "____Evaluating_____\n"
          ]
        },
        {
          "output_type": "stream",
          "name": "stderr",
          "text": [
            "100%|██████████| 7/7 [00:01<00:00,  4.00it/s, loss=0.344]\n"
          ]
        },
        {
          "output_type": "stream",
          "name": "stdout",
          "text": [
            "Mean Validation Loss: 0.3892517643315451\n",
            "Mean IOU Loss: 0.49627814548356197\n",
            "Mean Dice Loss: 0.11530914476939613\n",
            "[INFO]: Epoch 50 of 100\n",
            "____Training_____\n"
          ]
        },
        {
          "output_type": "stream",
          "name": "stderr",
          "text": [
            "100%|██████████| 23/23 [00:05<00:00,  4.20it/s, loss=0.163]\n"
          ]
        },
        {
          "output_type": "stream",
          "name": "stdout",
          "text": [
            "Mean Training Loss: 0.1796418907849685\n",
            "____Evaluating_____\n"
          ]
        },
        {
          "output_type": "stream",
          "name": "stderr",
          "text": [
            "100%|██████████| 7/7 [00:01<00:00,  4.12it/s, loss=0.339]\n"
          ]
        },
        {
          "output_type": "stream",
          "name": "stdout",
          "text": [
            "Mean Validation Loss: 0.3910925643784659\n",
            "Mean IOU Loss: 0.5014172281537737\n",
            "Mean Dice Loss: 0.11365904126848492\n",
            "[INFO]: Epoch 51 of 100\n",
            "____Training_____\n"
          ]
        },
        {
          "output_type": "stream",
          "name": "stderr",
          "text": [
            "100%|██████████| 23/23 [00:07<00:00,  3.18it/s, loss=0.168]\n"
          ]
        },
        {
          "output_type": "stream",
          "name": "stdout",
          "text": [
            "Mean Training Loss: 0.17566832057807757\n",
            "____Evaluating_____\n"
          ]
        },
        {
          "output_type": "stream",
          "name": "stderr",
          "text": [
            "100%|██████████| 7/7 [00:01<00:00,  3.92it/s, loss=0.344]\n"
          ]
        },
        {
          "output_type": "stream",
          "name": "stdout",
          "text": [
            "Mean Validation Loss: 0.3896354820047106\n",
            "Mean IOU Loss: 0.4913218532289777\n",
            "Mean Dice Loss: 0.11249596732003353\n",
            "[INFO]: Epoch 52 of 100\n",
            "____Training_____\n"
          ]
        },
        {
          "output_type": "stream",
          "name": "stderr",
          "text": [
            "100%|██████████| 23/23 [00:05<00:00,  4.14it/s, loss=0.168]\n"
          ]
        },
        {
          "output_type": "stream",
          "name": "stdout",
          "text": [
            "Mean Training Loss: 0.17206819096337195\n",
            "____Evaluating_____\n"
          ]
        },
        {
          "output_type": "stream",
          "name": "stderr",
          "text": [
            "100%|██████████| 7/7 [00:02<00:00,  3.29it/s, loss=0.344]\n"
          ]
        },
        {
          "output_type": "stream",
          "name": "stdout",
          "text": [
            "Mean Validation Loss: 0.3940440969807761\n",
            "Mean IOU Loss: 0.5058177709579468\n",
            "Mean Dice Loss: 0.11876438345227924\n",
            "[INFO]: Epoch 53 of 100\n",
            "____Training_____\n"
          ]
        },
        {
          "output_type": "stream",
          "name": "stderr",
          "text": [
            "100%|██████████| 23/23 [00:06<00:00,  3.41it/s, loss=0.183]\n"
          ]
        },
        {
          "output_type": "stream",
          "name": "stdout",
          "text": [
            "Mean Training Loss: 0.1702210695847221\n",
            "____Evaluating_____\n"
          ]
        },
        {
          "output_type": "stream",
          "name": "stderr",
          "text": [
            "100%|██████████| 7/7 [00:01<00:00,  4.08it/s, loss=0.35]\n"
          ]
        },
        {
          "output_type": "stream",
          "name": "stdout",
          "text": [
            "Mean Validation Loss: 0.40081595523016794\n",
            "Mean IOU Loss: 0.48905764733042034\n",
            "Mean Dice Loss: 0.11470933471407208\n",
            "[INFO]: Epoch 54 of 100\n",
            "____Training_____\n"
          ]
        },
        {
          "output_type": "stream",
          "name": "stderr",
          "text": [
            "100%|██████████| 23/23 [00:05<00:00,  3.99it/s, loss=0.18]\n"
          ]
        },
        {
          "output_type": "stream",
          "name": "stdout",
          "text": [
            "Mean Training Loss: 0.1705259868632192\n",
            "____Evaluating_____\n"
          ]
        },
        {
          "output_type": "stream",
          "name": "stderr",
          "text": [
            "100%|██████████| 7/7 [00:02<00:00,  2.56it/s, loss=0.342]\n"
          ]
        },
        {
          "output_type": "stream",
          "name": "stdout",
          "text": [
            "Mean Validation Loss: 0.4001134719167437\n",
            "Mean IOU Loss: 0.4811321880136218\n",
            "Mean Dice Loss: 0.11177637747355873\n",
            "[INFO]: Epoch 55 of 100\n",
            "____Training_____\n"
          ]
        },
        {
          "output_type": "stream",
          "name": "stderr",
          "text": [
            "100%|██████████| 23/23 [00:05<00:00,  4.02it/s, loss=0.172]\n"
          ]
        },
        {
          "output_type": "stream",
          "name": "stdout",
          "text": [
            "Mean Training Loss: 0.1706298855335816\n",
            "____Evaluating_____\n"
          ]
        },
        {
          "output_type": "stream",
          "name": "stderr",
          "text": [
            "100%|██████████| 7/7 [00:01<00:00,  4.18it/s, loss=0.36]\n"
          ]
        },
        {
          "output_type": "stream",
          "name": "stdout",
          "text": [
            "Mean Validation Loss: 0.42401626280375887\n",
            "Mean IOU Loss: 0.5184653231075832\n",
            "Mean Dice Loss: 0.12489981310708187\n",
            "[INFO]: Epoch 56 of 100\n",
            "____Training_____\n"
          ]
        },
        {
          "output_type": "stream",
          "name": "stderr",
          "text": [
            "100%|██████████| 23/23 [00:06<00:00,  3.29it/s, loss=0.17]\n"
          ]
        },
        {
          "output_type": "stream",
          "name": "stdout",
          "text": [
            "Mean Training Loss: 0.17006969387116638\n",
            "____Evaluating_____\n"
          ]
        },
        {
          "output_type": "stream",
          "name": "stderr",
          "text": [
            "100%|██████████| 7/7 [00:01<00:00,  3.63it/s, loss=0.323]\n"
          ]
        },
        {
          "output_type": "stream",
          "name": "stdout",
          "text": [
            "Mean Validation Loss: 0.38078672545296804\n",
            "Mean IOU Loss: 0.4909576220171792\n",
            "Mean Dice Loss: 0.11402972255434307\n",
            "[INFO]: Epoch 57 of 100\n",
            "____Training_____\n"
          ]
        },
        {
          "output_type": "stream",
          "name": "stderr",
          "text": [
            "100%|██████████| 23/23 [00:05<00:00,  4.16it/s, loss=0.179]\n"
          ]
        },
        {
          "output_type": "stream",
          "name": "stdout",
          "text": [
            "Mean Training Loss: 0.16566498448019443\n",
            "____Evaluating_____\n"
          ]
        },
        {
          "output_type": "stream",
          "name": "stderr",
          "text": [
            "100%|██████████| 7/7 [00:01<00:00,  4.01it/s, loss=0.362]\n"
          ]
        },
        {
          "output_type": "stream",
          "name": "stdout",
          "text": [
            "Mean Validation Loss: 0.4175707144396646\n",
            "Mean IOU Loss: 0.5106285469872611\n",
            "Mean Dice Loss: 0.11405418600354877\n",
            "[INFO]: Epoch 58 of 100\n",
            "____Training_____\n"
          ]
        },
        {
          "output_type": "stream",
          "name": "stderr",
          "text": [
            "100%|██████████| 23/23 [00:07<00:00,  3.16it/s, loss=0.147]\n"
          ]
        },
        {
          "output_type": "stream",
          "name": "stdout",
          "text": [
            "Mean Training Loss: 0.1607374924680461\n",
            "____Evaluating_____\n"
          ]
        },
        {
          "output_type": "stream",
          "name": "stderr",
          "text": [
            "100%|██████████| 7/7 [00:01<00:00,  4.13it/s, loss=0.329]\n"
          ]
        },
        {
          "output_type": "stream",
          "name": "stdout",
          "text": [
            "Mean Validation Loss: 0.3746693432331085\n",
            "Mean IOU Loss: 0.4994381453309741\n",
            "Mean Dice Loss: 0.11510791948863441\n",
            "[INFO]: Epoch 59 of 100\n",
            "____Training_____\n"
          ]
        },
        {
          "output_type": "stream",
          "name": "stderr",
          "text": [
            "100%|██████████| 23/23 [00:05<00:00,  4.13it/s, loss=0.142]\n"
          ]
        },
        {
          "output_type": "stream",
          "name": "stdout",
          "text": [
            "Mean Training Loss: 0.15892865217250327\n",
            "____Evaluating_____\n"
          ]
        },
        {
          "output_type": "stream",
          "name": "stderr",
          "text": [
            "100%|██████████| 7/7 [00:01<00:00,  3.59it/s, loss=0.366]\n"
          ]
        },
        {
          "output_type": "stream",
          "name": "stdout",
          "text": [
            "Mean Validation Loss: 0.4125305031027113\n",
            "Mean IOU Loss: 0.5233905230249678\n",
            "Mean Dice Loss: 0.11886346340179443\n",
            "[INFO]: Epoch 60 of 100\n",
            "____Training_____\n"
          ]
        },
        {
          "output_type": "stream",
          "name": "stderr",
          "text": [
            "100%|██████████| 23/23 [00:06<00:00,  3.35it/s, loss=0.153]\n"
          ]
        },
        {
          "output_type": "stream",
          "name": "stdout",
          "text": [
            "Mean Training Loss: 0.16002207346584485\n",
            "____Evaluating_____\n"
          ]
        },
        {
          "output_type": "stream",
          "name": "stderr",
          "text": [
            "100%|██████████| 7/7 [00:01<00:00,  4.05it/s, loss=0.33]\n"
          ]
        },
        {
          "output_type": "stream",
          "name": "stdout",
          "text": [
            "Mean Validation Loss: 0.3828824758529663\n",
            "Mean IOU Loss: 0.4683149712426322\n",
            "Mean Dice Loss: 0.11394255501883366\n",
            "[INFO]: Epoch 61 of 100\n",
            "____Training_____\n"
          ]
        },
        {
          "output_type": "stream",
          "name": "stderr",
          "text": [
            "100%|██████████| 23/23 [00:05<00:00,  4.06it/s, loss=0.175]\n"
          ]
        },
        {
          "output_type": "stream",
          "name": "stdout",
          "text": [
            "Mean Training Loss: 0.16046397064043127\n",
            "____Evaluating_____\n"
          ]
        },
        {
          "output_type": "stream",
          "name": "stderr",
          "text": [
            "100%|██████████| 7/7 [00:02<00:00,  2.60it/s, loss=0.324]\n"
          ]
        },
        {
          "output_type": "stream",
          "name": "stdout",
          "text": [
            "Mean Validation Loss: 0.3714836197240012\n",
            "Mean IOU Loss: 0.48589369228907997\n",
            "Mean Dice Loss: 0.11020303624016903\n",
            "[INFO]: Epoch 62 of 100\n",
            "____Training_____\n"
          ]
        },
        {
          "output_type": "stream",
          "name": "stderr",
          "text": [
            "100%|██████████| 23/23 [00:05<00:00,  3.88it/s, loss=0.156]\n"
          ]
        },
        {
          "output_type": "stream",
          "name": "stdout",
          "text": [
            "Mean Training Loss: 0.15737566740616507\n",
            "____Evaluating_____\n"
          ]
        },
        {
          "output_type": "stream",
          "name": "stderr",
          "text": [
            "100%|██████████| 7/7 [00:01<00:00,  4.03it/s, loss=0.349]\n"
          ]
        },
        {
          "output_type": "stream",
          "name": "stdout",
          "text": [
            "Mean Validation Loss: 0.3970548553126199\n",
            "Mean IOU Loss: 0.5082972390311105\n",
            "Mean Dice Loss: 0.11263729844774517\n",
            "[INFO]: Epoch 63 of 100\n",
            "____Training_____\n"
          ]
        },
        {
          "output_type": "stream",
          "name": "stderr",
          "text": [
            "100%|██████████| 23/23 [00:06<00:00,  3.44it/s, loss=0.148]\n"
          ]
        },
        {
          "output_type": "stream",
          "name": "stdout",
          "text": [
            "Mean Training Loss: 0.15439284366110098\n",
            "____Evaluating_____\n"
          ]
        },
        {
          "output_type": "stream",
          "name": "stderr",
          "text": [
            "100%|██████████| 7/7 [00:02<00:00,  3.21it/s, loss=0.323]\n"
          ]
        },
        {
          "output_type": "stream",
          "name": "stdout",
          "text": [
            "Mean Validation Loss: 0.38252454144614084\n",
            "Mean IOU Loss: 0.48362795369965694\n",
            "Mean Dice Loss: 0.10923102072307045\n",
            "[INFO]: Epoch 64 of 100\n",
            "____Training_____\n"
          ]
        },
        {
          "output_type": "stream",
          "name": "stderr",
          "text": [
            "100%|██████████| 23/23 [00:05<00:00,  4.21it/s, loss=0.134]\n"
          ]
        },
        {
          "output_type": "stream",
          "name": "stdout",
          "text": [
            "Mean Training Loss: 0.15213461414627408\n",
            "____Evaluating_____\n"
          ]
        },
        {
          "output_type": "stream",
          "name": "stderr",
          "text": [
            "100%|██████████| 7/7 [00:01<00:00,  4.04it/s, loss=0.367]\n"
          ]
        },
        {
          "output_type": "stream",
          "name": "stdout",
          "text": [
            "Mean Validation Loss: 0.41569029859134127\n",
            "Mean IOU Loss: 0.5201076396874019\n",
            "Mean Dice Loss: 0.11754313537052696\n",
            "[INFO]: Epoch 65 of 100\n",
            "____Training_____\n"
          ]
        },
        {
          "output_type": "stream",
          "name": "stderr",
          "text": [
            "100%|██████████| 23/23 [00:07<00:00,  3.18it/s, loss=0.153]\n"
          ]
        },
        {
          "output_type": "stream",
          "name": "stdout",
          "text": [
            "Mean Training Loss: 0.15375935059526694\n",
            "____Evaluating_____\n"
          ]
        },
        {
          "output_type": "stream",
          "name": "stderr",
          "text": [
            "100%|██████████| 7/7 [00:01<00:00,  4.04it/s, loss=0.338]\n"
          ]
        },
        {
          "output_type": "stream",
          "name": "stdout",
          "text": [
            "Mean Validation Loss: 0.3880032386098589\n",
            "Mean IOU Loss: 0.48238882848194664\n",
            "Mean Dice Loss: 0.11138226304735455\n",
            "[INFO]: Epoch 66 of 100\n",
            "____Training_____\n"
          ]
        },
        {
          "output_type": "stream",
          "name": "stderr",
          "text": [
            "100%|██████████| 23/23 [00:05<00:00,  4.14it/s, loss=0.173]\n"
          ]
        },
        {
          "output_type": "stream",
          "name": "stdout",
          "text": [
            "Mean Training Loss: 0.1520756625610849\n",
            "____Evaluating_____\n"
          ]
        },
        {
          "output_type": "stream",
          "name": "stderr",
          "text": [
            "100%|██████████| 7/7 [00:01<00:00,  3.72it/s, loss=0.354]\n"
          ]
        },
        {
          "output_type": "stream",
          "name": "stdout",
          "text": [
            "Mean Validation Loss: 0.40094361560685293\n",
            "Mean IOU Loss: 0.49576645663806373\n",
            "Mean Dice Loss: 0.11436505828584942\n",
            "[INFO]: Epoch 67 of 100\n",
            "____Training_____\n"
          ]
        },
        {
          "output_type": "stream",
          "name": "stderr",
          "text": [
            "100%|██████████| 23/23 [00:07<00:00,  3.20it/s, loss=0.144]\n"
          ]
        },
        {
          "output_type": "stream",
          "name": "stdout",
          "text": [
            "Mean Training Loss: 0.14960569272870602\n",
            "____Evaluating_____\n"
          ]
        },
        {
          "output_type": "stream",
          "name": "stderr",
          "text": [
            "100%|██████████| 7/7 [00:01<00:00,  3.97it/s, loss=0.336]\n"
          ]
        },
        {
          "output_type": "stream",
          "name": "stdout",
          "text": [
            "Mean Validation Loss: 0.3961227238178253\n",
            "Mean IOU Loss: 0.4905868428094047\n",
            "Mean Dice Loss: 0.11304591383252827\n",
            "[INFO]: Epoch 68 of 100\n",
            "____Training_____\n"
          ]
        },
        {
          "output_type": "stream",
          "name": "stderr",
          "text": [
            "100%|██████████| 23/23 [00:07<00:00,  2.97it/s, loss=0.158]\n"
          ]
        },
        {
          "output_type": "stream",
          "name": "stdout",
          "text": [
            "Mean Training Loss: 0.14751605430374976\n",
            "____Evaluating_____\n"
          ]
        },
        {
          "output_type": "stream",
          "name": "stderr",
          "text": [
            "100%|██████████| 7/7 [00:02<00:00,  2.57it/s, loss=0.338]\n"
          ]
        },
        {
          "output_type": "stream",
          "name": "stdout",
          "text": [
            "Mean Validation Loss: 0.39202078325407846\n",
            "Mean IOU Loss: 0.46276821408952984\n",
            "Mean Dice Loss: 0.11524025882993427\n",
            "[INFO]: Epoch 69 of 100\n",
            "____Training_____\n"
          ]
        },
        {
          "output_type": "stream",
          "name": "stderr",
          "text": [
            "100%|██████████| 23/23 [00:05<00:00,  4.08it/s, loss=0.127]\n"
          ]
        },
        {
          "output_type": "stream",
          "name": "stdout",
          "text": [
            "Mean Training Loss: 0.1453357423129289\n",
            "____Evaluating_____\n"
          ]
        },
        {
          "output_type": "stream",
          "name": "stderr",
          "text": [
            "100%|██████████| 7/7 [00:01<00:00,  4.04it/s, loss=0.332]\n"
          ]
        },
        {
          "output_type": "stream",
          "name": "stdout",
          "text": [
            "Mean Validation Loss: 0.38178775140217375\n",
            "Mean IOU Loss: 0.4875586926937103\n",
            "Mean Dice Loss: 0.10913421426500591\n",
            "[INFO]: Epoch 70 of 100\n",
            "____Training_____\n"
          ]
        },
        {
          "output_type": "stream",
          "name": "stderr",
          "text": [
            "100%|██████████| 23/23 [00:06<00:00,  3.33it/s, loss=0.132]\n"
          ]
        },
        {
          "output_type": "stream",
          "name": "stdout",
          "text": [
            "Mean Training Loss: 0.14507872935222543\n",
            "____Evaluating_____\n"
          ]
        },
        {
          "output_type": "stream",
          "name": "stderr",
          "text": [
            "100%|██████████| 7/7 [00:01<00:00,  3.63it/s, loss=0.359]\n"
          ]
        },
        {
          "output_type": "stream",
          "name": "stdout",
          "text": [
            "Mean Validation Loss: 0.4029716210705893\n",
            "Mean IOU Loss: 0.5030596469129835\n",
            "Mean Dice Loss: 0.11509369100843159\n",
            "[INFO]: Epoch 71 of 100\n",
            "____Training_____\n"
          ]
        },
        {
          "output_type": "stream",
          "name": "stderr",
          "text": [
            "100%|██████████| 23/23 [00:05<00:00,  4.15it/s, loss=0.152]\n"
          ]
        },
        {
          "output_type": "stream",
          "name": "stdout",
          "text": [
            "Mean Training Loss: 0.14487946713748184\n",
            "____Evaluating_____\n"
          ]
        },
        {
          "output_type": "stream",
          "name": "stderr",
          "text": [
            "100%|██████████| 7/7 [00:01<00:00,  4.01it/s, loss=0.362]\n"
          ]
        },
        {
          "output_type": "stream",
          "name": "stdout",
          "text": [
            "Mean Validation Loss: 0.3966005912848881\n",
            "Mean IOU Loss: 0.4898747163159507\n",
            "Mean Dice Loss: 0.1145550012588501\n",
            "[INFO]: Epoch 72 of 100\n",
            "____Training_____\n"
          ]
        },
        {
          "output_type": "stream",
          "name": "stderr",
          "text": [
            "100%|██████████| 23/23 [00:07<00:00,  3.17it/s, loss=0.142]\n"
          ]
        },
        {
          "output_type": "stream",
          "name": "stdout",
          "text": [
            "Mean Training Loss: 0.14305857601373093\n",
            "____Evaluating_____\n"
          ]
        },
        {
          "output_type": "stream",
          "name": "stderr",
          "text": [
            "100%|██████████| 7/7 [00:01<00:00,  4.06it/s, loss=0.377]\n"
          ]
        },
        {
          "output_type": "stream",
          "name": "stdout",
          "text": [
            "Mean Validation Loss: 0.4188494554587773\n",
            "Mean IOU Loss: 0.4992768466472626\n",
            "Mean Dice Loss: 0.11663482870374409\n",
            "[INFO]: Epoch 73 of 100\n",
            "____Training_____\n"
          ]
        },
        {
          "output_type": "stream",
          "name": "stderr",
          "text": [
            "100%|██████████| 23/23 [00:05<00:00,  4.07it/s, loss=0.132]\n"
          ]
        },
        {
          "output_type": "stream",
          "name": "stdout",
          "text": [
            "Mean Training Loss: 0.14029384566389996\n",
            "____Evaluating_____\n"
          ]
        },
        {
          "output_type": "stream",
          "name": "stderr",
          "text": [
            "100%|██████████| 7/7 [00:01<00:00,  3.65it/s, loss=0.338]\n"
          ]
        },
        {
          "output_type": "stream",
          "name": "stdout",
          "text": [
            "Mean Validation Loss: 0.37830938185964313\n",
            "Mean IOU Loss: 0.4810241120202201\n",
            "Mean Dice Loss: 0.10980663129261559\n",
            "[INFO]: Epoch 74 of 100\n",
            "____Training_____\n"
          ]
        },
        {
          "output_type": "stream",
          "name": "stderr",
          "text": [
            "100%|██████████| 23/23 [00:07<00:00,  3.26it/s, loss=0.121]\n"
          ]
        },
        {
          "output_type": "stream",
          "name": "stdout",
          "text": [
            "Mean Training Loss: 0.1382115353708682\n",
            "____Evaluating_____\n"
          ]
        },
        {
          "output_type": "stream",
          "name": "stderr",
          "text": [
            "100%|██████████| 7/7 [00:01<00:00,  3.98it/s, loss=0.368]\n"
          ]
        },
        {
          "output_type": "stream",
          "name": "stdout",
          "text": [
            "Mean Validation Loss: 0.4215373141424997\n",
            "Mean IOU Loss: 0.5077608398028782\n",
            "Mean Dice Loss: 0.11473170348576134\n",
            "[INFO]: Epoch 75 of 100\n",
            "____Training_____\n"
          ]
        },
        {
          "output_type": "stream",
          "name": "stderr",
          "text": [
            "100%|██████████| 23/23 [00:05<00:00,  4.04it/s, loss=0.139]\n"
          ]
        },
        {
          "output_type": "stream",
          "name": "stdout",
          "text": [
            "Mean Training Loss: 0.13687803758227307\n",
            "____Evaluating_____\n"
          ]
        },
        {
          "output_type": "stream",
          "name": "stderr",
          "text": [
            "100%|██████████| 7/7 [00:02<00:00,  2.57it/s, loss=0.337]\n"
          ]
        },
        {
          "output_type": "stream",
          "name": "stdout",
          "text": [
            "Mean Validation Loss: 0.39592272894723074\n",
            "Mean IOU Loss: 0.4821179168564933\n",
            "Mean Dice Loss: 0.10892990657261437\n",
            "[INFO]: Epoch 76 of 100\n",
            "____Training_____\n"
          ]
        },
        {
          "output_type": "stream",
          "name": "stderr",
          "text": [
            "100%|██████████| 23/23 [00:06<00:00,  3.82it/s, loss=0.116]\n"
          ]
        },
        {
          "output_type": "stream",
          "name": "stdout",
          "text": [
            "Mean Training Loss: 0.1368892393682314\n",
            "____Evaluating_____\n"
          ]
        },
        {
          "output_type": "stream",
          "name": "stderr",
          "text": [
            "100%|██████████| 7/7 [00:01<00:00,  3.98it/s, loss=0.362]\n"
          ]
        },
        {
          "output_type": "stream",
          "name": "stdout",
          "text": [
            "Mean Validation Loss: 0.39616748690605164\n",
            "Mean IOU Loss: 0.48085492849349976\n",
            "Mean Dice Loss: 0.1146048988614764\n",
            "[INFO]: Epoch 77 of 100\n",
            "____Training_____\n"
          ]
        },
        {
          "output_type": "stream",
          "name": "stderr",
          "text": [
            "100%|██████████| 23/23 [00:06<00:00,  3.30it/s, loss=0.137]\n"
          ]
        },
        {
          "output_type": "stream",
          "name": "stdout",
          "text": [
            "Mean Training Loss: 0.1346679708879927\n",
            "____Evaluating_____\n"
          ]
        },
        {
          "output_type": "stream",
          "name": "stderr",
          "text": [
            "100%|██████████| 7/7 [00:02<00:00,  3.47it/s, loss=0.334]\n"
          ]
        },
        {
          "output_type": "stream",
          "name": "stdout",
          "text": [
            "Mean Validation Loss: 0.38083530749593464\n",
            "Mean IOU Loss: 0.4705379094396319\n",
            "Mean Dice Loss: 0.10967900071825298\n",
            "[INFO]: Epoch 78 of 100\n",
            "____Training_____\n"
          ]
        },
        {
          "output_type": "stream",
          "name": "stderr",
          "text": [
            "100%|██████████| 23/23 [00:05<00:00,  4.14it/s, loss=0.14]\n"
          ]
        },
        {
          "output_type": "stream",
          "name": "stdout",
          "text": [
            "Mean Training Loss: 0.13537084019702414\n",
            "____Evaluating_____\n"
          ]
        },
        {
          "output_type": "stream",
          "name": "stderr",
          "text": [
            "100%|██████████| 7/7 [00:01<00:00,  4.06it/s, loss=0.368]\n"
          ]
        },
        {
          "output_type": "stream",
          "name": "stdout",
          "text": [
            "Mean Validation Loss: 0.4079406644616808\n",
            "Mean IOU Loss: 0.5092107142720903\n",
            "Mean Dice Loss: 0.11438592842647011\n",
            "[INFO]: Epoch 79 of 100\n",
            "____Training_____\n"
          ]
        },
        {
          "output_type": "stream",
          "name": "stderr",
          "text": [
            "100%|██████████| 23/23 [00:07<00:00,  3.18it/s, loss=0.143]\n"
          ]
        },
        {
          "output_type": "stream",
          "name": "stdout",
          "text": [
            "Mean Training Loss: 0.13640139284341232\n",
            "____Evaluating_____\n"
          ]
        },
        {
          "output_type": "stream",
          "name": "stderr",
          "text": [
            "100%|██████████| 7/7 [00:01<00:00,  4.00it/s, loss=0.336]\n"
          ]
        },
        {
          "output_type": "stream",
          "name": "stdout",
          "text": [
            "Mean Validation Loss: 0.3822999766894749\n",
            "Mean IOU Loss: 0.46717899186270573\n",
            "Mean Dice Loss: 0.10839391606194637\n",
            "[INFO]: Epoch 80 of 100\n",
            "____Training_____\n"
          ]
        },
        {
          "output_type": "stream",
          "name": "stderr",
          "text": [
            "100%|██████████| 23/23 [00:05<00:00,  4.16it/s, loss=0.137]\n"
          ]
        },
        {
          "output_type": "stream",
          "name": "stdout",
          "text": [
            "Mean Training Loss: 0.13402142343313797\n",
            "____Evaluating_____\n"
          ]
        },
        {
          "output_type": "stream",
          "name": "stderr",
          "text": [
            "100%|██████████| 7/7 [00:01<00:00,  3.97it/s, loss=0.341]\n"
          ]
        },
        {
          "output_type": "stream",
          "name": "stdout",
          "text": [
            "Mean Validation Loss: 0.3896271288394928\n",
            "Mean IOU Loss: 0.4914148577622005\n",
            "Mean Dice Loss: 0.10882369109562462\n",
            "[INFO]: Epoch 81 of 100\n",
            "____Training_____\n"
          ]
        },
        {
          "output_type": "stream",
          "name": "stderr",
          "text": [
            "100%|██████████| 23/23 [00:07<00:00,  3.22it/s, loss=0.117]\n"
          ]
        },
        {
          "output_type": "stream",
          "name": "stdout",
          "text": [
            "Mean Training Loss: 0.13192739046138266\n",
            "____Evaluating_____\n"
          ]
        },
        {
          "output_type": "stream",
          "name": "stderr",
          "text": [
            "100%|██████████| 7/7 [00:01<00:00,  3.98it/s, loss=0.355]\n"
          ]
        },
        {
          "output_type": "stream",
          "name": "stdout",
          "text": [
            "Mean Validation Loss: 0.4027851266520364\n",
            "Mean IOU Loss: 0.49182626605033875\n",
            "Mean Dice Loss: 0.11142558710915706\n",
            "[INFO]: Epoch 82 of 100\n",
            "____Training_____\n"
          ]
        },
        {
          "output_type": "stream",
          "name": "stderr",
          "text": [
            "100%|██████████| 23/23 [00:05<00:00,  4.15it/s, loss=0.111]\n"
          ]
        },
        {
          "output_type": "stream",
          "name": "stdout",
          "text": [
            "Mean Training Loss: 0.12951249208139337\n",
            "____Evaluating_____\n"
          ]
        },
        {
          "output_type": "stream",
          "name": "stderr",
          "text": [
            "100%|██████████| 7/7 [00:02<00:00,  2.57it/s, loss=0.359]\n"
          ]
        },
        {
          "output_type": "stream",
          "name": "stdout",
          "text": [
            "Mean Validation Loss: 0.39824906843049185\n",
            "Mean IOU Loss: 0.497536267553057\n",
            "Mean Dice Loss: 0.1119602748325893\n",
            "[INFO]: Epoch 83 of 100\n",
            "____Training_____\n"
          ]
        },
        {
          "output_type": "stream",
          "name": "stderr",
          "text": [
            "100%|██████████| 23/23 [00:06<00:00,  3.66it/s, loss=0.126]\n"
          ]
        },
        {
          "output_type": "stream",
          "name": "stdout",
          "text": [
            "Mean Training Loss: 0.12814899728350018\n",
            "____Evaluating_____\n"
          ]
        },
        {
          "output_type": "stream",
          "name": "stderr",
          "text": [
            "100%|██████████| 7/7 [00:01<00:00,  4.06it/s, loss=0.353]\n"
          ]
        },
        {
          "output_type": "stream",
          "name": "stdout",
          "text": [
            "Mean Validation Loss: 0.3946110350745065\n",
            "Mean IOU Loss: 0.48440419776099064\n",
            "Mean Dice Loss: 0.11298705850328716\n",
            "[INFO]: Epoch 84 of 100\n",
            "____Training_____\n"
          ]
        },
        {
          "output_type": "stream",
          "name": "stderr",
          "text": [
            "100%|██████████| 23/23 [00:06<00:00,  3.54it/s, loss=0.113]\n"
          ]
        },
        {
          "output_type": "stream",
          "name": "stdout",
          "text": [
            "Mean Training Loss: 0.12627468711656073\n",
            "____Evaluating_____\n"
          ]
        },
        {
          "output_type": "stream",
          "name": "stderr",
          "text": [
            "100%|██████████| 7/7 [00:02<00:00,  2.93it/s, loss=0.355]\n"
          ]
        },
        {
          "output_type": "stream",
          "name": "stdout",
          "text": [
            "Mean Validation Loss: 0.41073151997157503\n",
            "Mean IOU Loss: 0.4884485985551562\n",
            "Mean Dice Loss: 0.10588419437408447\n",
            "[INFO]: Epoch 85 of 100\n",
            "____Training_____\n"
          ]
        },
        {
          "output_type": "stream",
          "name": "stderr",
          "text": [
            "100%|██████████| 23/23 [00:05<00:00,  4.10it/s, loss=0.1]\n"
          ]
        },
        {
          "output_type": "stream",
          "name": "stdout",
          "text": [
            "Mean Training Loss: 0.1262741788573887\n",
            "____Evaluating_____\n"
          ]
        },
        {
          "output_type": "stream",
          "name": "stderr",
          "text": [
            "100%|██████████| 7/7 [00:01<00:00,  4.12it/s, loss=0.363]\n"
          ]
        },
        {
          "output_type": "stream",
          "name": "stdout",
          "text": [
            "Mean Validation Loss: 0.40407411967005047\n",
            "Mean IOU Loss: 0.4702826482909066\n",
            "Mean Dice Loss: 0.11246250356946674\n",
            "[INFO]: Epoch 86 of 100\n",
            "____Training_____\n"
          ]
        },
        {
          "output_type": "stream",
          "name": "stderr",
          "text": [
            "100%|██████████| 23/23 [00:07<00:00,  3.22it/s, loss=0.134]\n"
          ]
        },
        {
          "output_type": "stream",
          "name": "stdout",
          "text": [
            "Mean Training Loss: 0.1254088353851567\n",
            "____Evaluating_____\n"
          ]
        },
        {
          "output_type": "stream",
          "name": "stderr",
          "text": [
            "100%|██████████| 7/7 [00:01<00:00,  4.05it/s, loss=0.362]\n"
          ]
        },
        {
          "output_type": "stream",
          "name": "stdout",
          "text": [
            "Mean Validation Loss: 0.4071767968790872\n",
            "Mean IOU Loss: 0.497830616576331\n",
            "Mean Dice Loss: 0.11255650860922672\n",
            "[INFO]: Epoch 87 of 100\n",
            "____Training_____\n"
          ]
        },
        {
          "output_type": "stream",
          "name": "stderr",
          "text": [
            "100%|██████████| 23/23 [00:06<00:00,  3.76it/s, loss=0.132]\n"
          ]
        },
        {
          "output_type": "stream",
          "name": "stdout",
          "text": [
            "Mean Training Loss: 0.12568419847799384\n",
            "____Evaluating_____\n"
          ]
        },
        {
          "output_type": "stream",
          "name": "stderr",
          "text": [
            "100%|██████████| 7/7 [00:02<00:00,  2.47it/s, loss=0.366]\n"
          ]
        },
        {
          "output_type": "stream",
          "name": "stdout",
          "text": [
            "Mean Validation Loss: 0.4067684156554086\n",
            "Mean IOU Loss: 0.483819842338562\n",
            "Mean Dice Loss: 0.1113160252571106\n",
            "[INFO]: Epoch 88 of 100\n",
            "____Training_____\n"
          ]
        },
        {
          "output_type": "stream",
          "name": "stderr",
          "text": [
            "100%|██████████| 23/23 [00:07<00:00,  3.24it/s, loss=0.117]\n"
          ]
        },
        {
          "output_type": "stream",
          "name": "stdout",
          "text": [
            "Mean Training Loss: 0.12562402273001877\n",
            "____Evaluating_____\n"
          ]
        },
        {
          "output_type": "stream",
          "name": "stderr",
          "text": [
            "100%|██████████| 7/7 [00:01<00:00,  3.95it/s, loss=0.338]\n"
          ]
        },
        {
          "output_type": "stream",
          "name": "stdout",
          "text": [
            "Mean Validation Loss: 0.39190870097705294\n",
            "Mean IOU Loss: 0.48268215996878483\n",
            "Mean Dice Loss: 0.10992581503731869\n",
            "[INFO]: Epoch 89 of 100\n",
            "____Training_____\n"
          ]
        },
        {
          "output_type": "stream",
          "name": "stderr",
          "text": [
            "100%|██████████| 23/23 [00:05<00:00,  4.00it/s, loss=0.118]\n"
          ]
        },
        {
          "output_type": "stream",
          "name": "stdout",
          "text": [
            "Mean Training Loss: 0.12421696827463481\n",
            "____Evaluating_____\n"
          ]
        },
        {
          "output_type": "stream",
          "name": "stderr",
          "text": [
            "100%|██████████| 7/7 [00:02<00:00,  2.58it/s, loss=0.368]\n"
          ]
        },
        {
          "output_type": "stream",
          "name": "stdout",
          "text": [
            "Mean Validation Loss: 0.4075435187135424\n",
            "Mean IOU Loss: 0.48211776358740666\n",
            "Mean Dice Loss: 0.11455268519265316\n",
            "[INFO]: Epoch 90 of 100\n",
            "____Training_____\n"
          ]
        },
        {
          "output_type": "stream",
          "name": "stderr",
          "text": [
            "100%|██████████| 23/23 [00:05<00:00,  3.87it/s, loss=0.111]\n"
          ]
        },
        {
          "output_type": "stream",
          "name": "stdout",
          "text": [
            "Mean Training Loss: 0.12280879202096359\n",
            "____Evaluating_____\n"
          ]
        },
        {
          "output_type": "stream",
          "name": "stderr",
          "text": [
            "100%|██████████| 7/7 [00:01<00:00,  3.95it/s, loss=0.339]\n"
          ]
        },
        {
          "output_type": "stream",
          "name": "stdout",
          "text": [
            "Mean Validation Loss: 0.393642749105181\n",
            "Mean IOU Loss: 0.47974925381796696\n",
            "Mean Dice Loss: 0.10825887748173302\n",
            "[INFO]: Epoch 91 of 100\n",
            "____Training_____\n"
          ]
        },
        {
          "output_type": "stream",
          "name": "stderr",
          "text": [
            "100%|██████████| 23/23 [00:06<00:00,  3.31it/s, loss=0.115]\n"
          ]
        },
        {
          "output_type": "stream",
          "name": "stdout",
          "text": [
            "Mean Training Loss: 0.12181906369717224\n",
            "____Evaluating_____\n"
          ]
        },
        {
          "output_type": "stream",
          "name": "stderr",
          "text": [
            "100%|██████████| 7/7 [00:01<00:00,  3.63it/s, loss=0.372]\n"
          ]
        },
        {
          "output_type": "stream",
          "name": "stdout",
          "text": [
            "Mean Validation Loss: 0.4101844344820295\n",
            "Mean IOU Loss: 0.49600791505404884\n",
            "Mean Dice Loss: 0.1139630419867379\n",
            "[INFO]: Epoch 92 of 100\n",
            "____Training_____\n"
          ]
        },
        {
          "output_type": "stream",
          "name": "stderr",
          "text": [
            "100%|██████████| 23/23 [00:05<00:00,  4.12it/s, loss=0.134]\n"
          ]
        },
        {
          "output_type": "stream",
          "name": "stdout",
          "text": [
            "Mean Training Loss: 0.12238511605107266\n",
            "____Evaluating_____\n"
          ]
        },
        {
          "output_type": "stream",
          "name": "stderr",
          "text": [
            "100%|██████████| 7/7 [00:01<00:00,  4.02it/s, loss=0.345]\n"
          ]
        },
        {
          "output_type": "stream",
          "name": "stdout",
          "text": [
            "Mean Validation Loss: 0.39125087005751474\n",
            "Mean IOU Loss: 0.4800812346594674\n",
            "Mean Dice Loss: 0.11138338702065609\n",
            "[INFO]: Epoch 93 of 100\n",
            "____Training_____\n"
          ]
        },
        {
          "output_type": "stream",
          "name": "stderr",
          "text": [
            "100%|██████████| 23/23 [00:07<00:00,  3.19it/s, loss=0.117]\n"
          ]
        },
        {
          "output_type": "stream",
          "name": "stdout",
          "text": [
            "Mean Training Loss: 0.12123811050601628\n",
            "____Evaluating_____\n"
          ]
        },
        {
          "output_type": "stream",
          "name": "stderr",
          "text": [
            "100%|██████████| 7/7 [00:01<00:00,  4.15it/s, loss=0.366]\n"
          ]
        },
        {
          "output_type": "stream",
          "name": "stdout",
          "text": [
            "Mean Validation Loss: 0.4024828246661595\n",
            "Mean IOU Loss: 0.47661374296460834\n",
            "Mean Dice Loss: 0.11142735821860172\n",
            "[INFO]: Epoch 94 of 100\n",
            "____Training_____\n"
          ]
        },
        {
          "output_type": "stream",
          "name": "stderr",
          "text": [
            "100%|██████████| 23/23 [00:05<00:00,  4.11it/s, loss=0.123]\n"
          ]
        },
        {
          "output_type": "stream",
          "name": "stdout",
          "text": [
            "Mean Training Loss: 0.11955921578666438\n",
            "____Evaluating_____\n"
          ]
        },
        {
          "output_type": "stream",
          "name": "stderr",
          "text": [
            "100%|██████████| 7/7 [00:01<00:00,  3.88it/s, loss=0.368]\n"
          ]
        },
        {
          "output_type": "stream",
          "name": "stdout",
          "text": [
            "Mean Validation Loss: 0.41146533829825266\n",
            "Mean IOU Loss: 0.4872504728181022\n",
            "Mean Dice Loss: 0.11364947898047306\n",
            "[INFO]: Epoch 95 of 100\n",
            "____Training_____\n"
          ]
        },
        {
          "output_type": "stream",
          "name": "stderr",
          "text": [
            "100%|██████████| 23/23 [00:07<00:00,  3.23it/s, loss=0.119]\n"
          ]
        },
        {
          "output_type": "stream",
          "name": "stdout",
          "text": [
            "Mean Training Loss: 0.11988341646349948\n",
            "____Evaluating_____\n"
          ]
        },
        {
          "output_type": "stream",
          "name": "stderr",
          "text": [
            "100%|██████████| 7/7 [00:01<00:00,  3.79it/s, loss=0.367]\n"
          ]
        },
        {
          "output_type": "stream",
          "name": "stdout",
          "text": [
            "Mean Validation Loss: 0.4135430029460362\n",
            "Mean IOU Loss: 0.4977373310497829\n",
            "Mean Dice Loss: 0.11319814409528461\n",
            "[INFO]: Epoch 96 of 100\n",
            "____Training_____\n"
          ]
        },
        {
          "output_type": "stream",
          "name": "stderr",
          "text": [
            "100%|██████████| 23/23 [00:06<00:00,  3.82it/s, loss=0.109]\n"
          ]
        },
        {
          "output_type": "stream",
          "name": "stdout",
          "text": [
            "Mean Training Loss: 0.11799878400305043\n",
            "____Evaluating_____\n"
          ]
        },
        {
          "output_type": "stream",
          "name": "stderr",
          "text": [
            "100%|██████████| 7/7 [00:02<00:00,  2.46it/s, loss=0.379]\n"
          ]
        },
        {
          "output_type": "stream",
          "name": "stdout",
          "text": [
            "Mean Validation Loss: 0.42294480545180185\n",
            "Mean IOU Loss: 0.48211268867765156\n",
            "Mean Dice Loss: 0.11302380902426579\n",
            "[INFO]: Epoch 97 of 100\n",
            "____Training_____\n"
          ]
        },
        {
          "output_type": "stream",
          "name": "stderr",
          "text": [
            "100%|██████████| 23/23 [00:05<00:00,  3.93it/s, loss=0.113]\n"
          ]
        },
        {
          "output_type": "stream",
          "name": "stdout",
          "text": [
            "Mean Training Loss: 0.1151204293836718\n",
            "____Evaluating_____\n"
          ]
        },
        {
          "output_type": "stream",
          "name": "stderr",
          "text": [
            "100%|██████████| 7/7 [00:01<00:00,  4.04it/s, loss=0.381]\n"
          ]
        },
        {
          "output_type": "stream",
          "name": "stdout",
          "text": [
            "Mean Validation Loss: 0.4285199088709695\n",
            "Mean IOU Loss: 0.4801005635942731\n",
            "Mean Dice Loss: 0.11383819580078125\n",
            "[INFO]: Epoch 98 of 100\n",
            "____Training_____\n"
          ]
        },
        {
          "output_type": "stream",
          "name": "stderr",
          "text": [
            "100%|██████████| 23/23 [00:07<00:00,  3.24it/s, loss=0.113]\n"
          ]
        },
        {
          "output_type": "stream",
          "name": "stdout",
          "text": [
            "Mean Training Loss: 0.11415194914392802\n",
            "____Evaluating_____\n"
          ]
        },
        {
          "output_type": "stream",
          "name": "stderr",
          "text": [
            "100%|██████████| 7/7 [00:01<00:00,  3.82it/s, loss=0.372]\n"
          ]
        },
        {
          "output_type": "stream",
          "name": "stdout",
          "text": [
            "Mean Validation Loss: 0.4073646238871983\n",
            "Mean IOU Loss: 0.4792911580630711\n",
            "Mean Dice Loss: 0.11160150596073692\n",
            "[INFO]: Epoch 99 of 100\n",
            "____Training_____\n"
          ]
        },
        {
          "output_type": "stream",
          "name": "stderr",
          "text": [
            "100%|██████████| 23/23 [00:05<00:00,  4.13it/s, loss=0.129]\n"
          ]
        },
        {
          "output_type": "stream",
          "name": "stdout",
          "text": [
            "Mean Training Loss: 0.11356782394906749\n",
            "____Evaluating_____\n"
          ]
        },
        {
          "output_type": "stream",
          "name": "stderr",
          "text": [
            "100%|██████████| 7/7 [00:01<00:00,  3.99it/s, loss=0.375]\n"
          ]
        },
        {
          "output_type": "stream",
          "name": "stdout",
          "text": [
            "Mean Validation Loss: 0.4175416188580649\n",
            "Mean IOU Loss: 0.4841754138469696\n",
            "Mean Dice Loss: 0.111995884350368\n",
            "[INFO]: Epoch 100 of 100\n",
            "____Training_____\n"
          ]
        },
        {
          "output_type": "stream",
          "name": "stderr",
          "text": [
            "100%|██████████| 23/23 [00:07<00:00,  3.19it/s, loss=0.123]\n"
          ]
        },
        {
          "output_type": "stream",
          "name": "stdout",
          "text": [
            "Mean Training Loss: 0.11339378389327423\n",
            "____Evaluating_____\n"
          ]
        },
        {
          "output_type": "stream",
          "name": "stderr",
          "text": [
            "100%|██████████| 7/7 [00:01<00:00,  4.06it/s, loss=0.361]"
          ]
        },
        {
          "output_type": "stream",
          "name": "stdout",
          "text": [
            "Mean Validation Loss: 0.41020297152655466\n",
            "Mean IOU Loss: 0.4744247879300799\n",
            "Mean Dice Loss: 0.10878222329275944\n",
            "TRAINING FINISHED!\n"
          ]
        },
        {
          "output_type": "stream",
          "name": "stderr",
          "text": [
            "\n"
          ]
        }
      ]
    },
    {
      "cell_type": "code",
      "source": [
        "plt.plot(range(NUM_EPOCHS), metrics['train_loss'], label='Training Loss')\n",
        "plt.plot(range(NUM_EPOCHS), metrics['val_loss'], label='Validation Loss')\n",
        "plt.plot(range(NUM_EPOCHS), metrics['iou_loss'], label='IOU Loss')\n",
        "plt.plot(range(NUM_EPOCHS), metrics['dice_loss'], label='Dice Loss')\n",
        "plt.xlabel('Epochs')\n",
        "plt.ylabel('Loss Metric')\n",
        "plt.legend()\n",
        "plt.show()"
      ],
      "metadata": {
        "colab": {
          "base_uri": "https://localhost:8080/",
          "height": 449
        },
        "id": "eiIx2jEhBjoc",
        "outputId": "d248fe12-9056-407b-8fdd-f868a2863f94"
      },
      "execution_count": null,
      "outputs": [
        {
          "output_type": "display_data",
          "data": {
            "text/plain": [
              "<Figure size 640x480 with 1 Axes>"
            ],
            "image/png": "[encoded data removed]"
          },
          "metadata": {}
        }
      ]
    },
    {
      "cell_type": "code",
      "source": [
        "torch.save(model.state_dict(), 'cityscape_segmentation_model.pt')"
      ],
      "metadata": {
        "id": "9mwX0hoUcIsB"
      },
      "execution_count": null,
      "outputs": []
    },
    {
      "cell_type": "markdown",
      "source": [
        "## Inference"
      ],
      "metadata": {
        "id": "mdUn2C6GJNP7"
      }
    },
    {
      "cell_type": "code",
      "source": [
        "import random\n",
        "\n",
        "mean = [0.485, 0.456, 0.406]\n",
        "std = [0.229, 0.224, 0.225]\n",
        "images, labels = next(iter(val_loader))"
      ],
      "metadata": {
        "id": "8NxHUmrtb_ZW"
      },
      "execution_count": null,
      "outputs": []
    },
    {
      "cell_type": "code",
      "source": [
        "idx = random.randint(0, BATCH_SIZE-1)\n",
        "softmax = nn.Softmax(dim=0)\n",
        "fig, ax = plt.subplots(1, 3, figsize=(15, 10))\n",
        "\n",
        "with torch.no_grad():\n",
        "  preds = model(images[idx].unsqueeze(0).to(DEVICE))\n",
        "\n",
        "img = np.transpose(images[idx].numpy(), (1, 2, 0))\n",
        "img = (img * std) + mean\n",
        "ax[0].imshow(img)\n",
        "ax[0].set_title('Image')\n",
        "\n",
        "ax[1].imshow(torch.argmax(softmax(preds[0]), dim=0).cpu())\n",
        "ax[1].set_title('Prediction')\n",
        "\n",
        "ax[2].imshow(labels[idx])\n",
        "ax[2].set_title('Label')\n",
        "\n",
        "plt.show()"
      ],
      "metadata": {
        "colab": {
          "base_uri": "https://localhost:8080/",
          "height": 360
        },
        "id": "EEmK7AWhJPcK",
        "outputId": "3c74a429-1b56-4e6a-9ce8-f600ae7edaae"
      },
      "execution_count": null,
      "outputs": [
        {
          "output_type": "display_data",
          "data": {
            "text/plain": [
              "<Figure size 1500x1000 with 3 Axes>"
            ],
            "image/png": "[encoded data removed]"
          },
          "metadata": {}
        }
      ]
    }
  ]
}